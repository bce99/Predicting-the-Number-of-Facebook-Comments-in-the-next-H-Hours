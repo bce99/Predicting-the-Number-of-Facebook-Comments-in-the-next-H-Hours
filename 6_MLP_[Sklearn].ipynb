{
  "cells": [
    {
      "cell_type": "markdown",
      "metadata": {
        "id": "1zArcgiN5DBB"
      },
      "source": [
        "Dataset description page: https://archive.ics.uci.edu/ml/datasets/Facebook+Comment+Volume+Dataset"
      ]
    },
    {
      "cell_type": "markdown",
      "metadata": {
        "id": "2z-H4LraMTGa"
      },
      "source": [
        "# 1. Pre-processing of data"
      ]
    },
    {
      "cell_type": "code",
      "execution_count": null,
      "metadata": {
        "id": "krIeUH5zSkJ8"
      },
      "outputs": [],
      "source": [
        "# Loading the dataset(zipped) with a google drive id\n",
        "! gdown 1ak_rxZ1XrenunEZK62t9U61XYe8mp-EU\n",
        "\n",
        "# Unzipping the dataset to a folder named \"unzipped_data\". The directory can be found by clicking on the Files icon on the leftmost column\n",
        "# The command automatically checks for existence of unzipped data so re-running it does not lead to multiple unzips\n",
        "# However, running it for the first time will generate a bunch of checker prints. To remove them for simplicity, simply re-run this cell\n",
        "!unzip -u \"/content/Dataset.zip\" -d \"/content/unzipped_data\""
      ]
    },
    {
      "cell_type": "code",
      "execution_count": null,
      "metadata": {
        "id": "UJutVzoR_FPU"
      },
      "outputs": [],
      "source": [
        "# Imports\n",
        "import pandas as pd\n",
        "import numpy as np\n",
        "import sklearn.preprocessing\n",
        "\n",
        "# Read data\n",
        "df1 = pd.read_csv(\"/content/unzipped_data/Dataset/Training/Features_Variant_1.csv\", header = None)\n"
      ]
    },
    {
      "cell_type": "code",
      "source": [
        "column_names = {0: \"page_likes\",\n",
        "                1: \"page_checkins\", #page visits\n",
        "                2: \"page_talking_about\",\n",
        "                3: \"page_category\",\n",
        "                4: \"min_CC1\",\n",
        "                5: \"max_CC1\",\n",
        "                6: \"ave_CC1\",\n",
        "                7: \"med_CC1\",\n",
        "                8: \"std_CC1\",\n",
        "                9: \"min_CC2\",\n",
        "                10: \"max_CC2\",\n",
        "                11: \"ave_CC2\",\n",
        "                12: \"med_CC2\",\n",
        "                13: \"std_CC2\",\n",
        "                14: \"min_CC3\",\n",
        "                15: \"max_CC3\",\n",
        "                16: \"ave_CC3\",\n",
        "                17: \"med_CC3\",\n",
        "                18: \"std_CC3\",\n",
        "                19: \"min_CC4\",\n",
        "                20: \"max_CC4\",\n",
        "                21: \"ave_CC4\",\n",
        "                22: \"med_CC4\",\n",
        "                23: \"std_CC4\",\n",
        "                24: \"min_CC5\",\n",
        "                25: \"max_CC5\",\n",
        "                26: \"ave_CC5\",\n",
        "                27: \"med_CC5\",\n",
        "                28: \"std_CC5\",\n",
        "                29: \"CC1\",\n",
        "                30: \"CC2\",\n",
        "                31: \"CC3\",\n",
        "                32: \"CC4\",\n",
        "                33: \"CC5\",\n",
        "                34: \"base_time\",\n",
        "                35: \"post_length\",\n",
        "                36: \"post_share_count\",\n",
        "                37: \"post_isPromoted\",\n",
        "                38: \"h_local\",\n",
        "                39: \"published_on_sun\",\n",
        "                40: \"published_on_mon\",\n",
        "                41: \"published_on_tue\",\n",
        "                42: \"published_on_wed\",\n",
        "                43: \"published_on_thu\",\n",
        "                44: \"published_on_fri\",\n",
        "                45: \"published_on_sat\",\n",
        "                46: \"base_day_sun\",\n",
        "                47: \"base_day_mon\",\n",
        "                48: \"base_day_tue\",\n",
        "                49: \"base_day_wed\",\n",
        "                50: \"base_day_thu\",\n",
        "                51: \"base_day_fri\",\n",
        "                52: \"base_day_sat\",\n",
        "                53: \"num_comments_in_next_h\"}"
      ],
      "metadata": {
        "id": "RVqmXzWL7RlQ"
      },
      "execution_count": null,
      "outputs": []
    },
    {
      "cell_type": "code",
      "execution_count": null,
      "metadata": {
        "id": "HA2TGz2suNEV"
      },
      "outputs": [],
      "source": [
        "# Define normalization function\n",
        "from sklearn.preprocessing import MinMaxScaler\n",
        "\n",
        "def norm(df):\n",
        "  df_X = df.drop(columns='num_comments_in_next_h')\n",
        "  df_y = df[['num_comments_in_next_h']]\n",
        "  # print(df_y)\n",
        "  scaler = MinMaxScaler()\n",
        "  scaler.fit(df_X)\n",
        "  df_X_norm = scaler.transform(df_X)\n",
        "  df_X_norm = pd.DataFrame(df_X_norm, columns = df_X.columns)\n",
        "  df_norm = pd.concat([df_X_norm, df_y], axis=1)\n",
        "  # print(df_norm[['num_comments_in_next_h']])\n",
        "  return df_norm\n",
        "\n",
        "\n",
        "# Rename columns - drop statistics columns  \n",
        "df1 = df1.rename(columns = column_names)\n",
        "df1 = df1.drop(df1.iloc[:, 4:29], axis = 1)\n",
        "\n",
        "# Convert catogory to dummy variables\n",
        "dummy_df1 = pd.get_dummies(df1, columns=['page_category'])\n",
        "\n",
        "# Split train & test data\n",
        "df1_train = dummy_df1.sample(frac = 0.8, random_state=3244)\n",
        "df1_test = dummy_df1.drop(df1_train.index)\n",
        "\n",
        "df1_test_reindex = df1_test.reset_index(drop=True)\n",
        "df1_train_reindex = df1_train.reset_index(drop=True)\n",
        "\n",
        "# Normalize train and test data separately\n",
        "df1_train_norm = norm(df1_train_reindex)\n",
        "df1_test_norm = norm(df1_test_reindex)\n",
        "\n",
        "y_train = pd.DataFrame(df1_train_norm.loc[:,[\"num_comments_in_next_h\"]], dtype=float)\n",
        "X_train = pd.DataFrame(df1_train_norm.loc[:, df1_train_norm.columns != \"num_comments_in_next_h\"], dtype=float)\n",
        "\n",
        "y_test = pd.DataFrame(df1_test_norm.loc[:,[\"num_comments_in_next_h\"]], dtype=float)\n",
        "X_test = pd.DataFrame(df1_test_norm.loc[:, df1_test_norm.columns != \"num_comments_in_next_h\"], dtype=float)"
      ]
    },
    {
      "cell_type": "markdown",
      "source": [
        "# 2. MLP Model (sklearn)"
      ],
      "metadata": {
        "id": "iNscwZVY72wj"
      }
    },
    {
      "cell_type": "code",
      "execution_count": null,
      "metadata": {
        "colab": {
          "base_uri": "https://localhost:8080/",
          "height": 381
        },
        "id": "C3CaFLYgu9T0",
        "outputId": "9707e733-e49e-4bdf-f09e-979256490226"
      },
      "outputs": [
        {
          "output_type": "error",
          "ename": "KeyboardInterrupt",
          "evalue": "ignored",
          "traceback": [
            "\u001b[0;31m---------------------------------------------------------------------------\u001b[0m",
            "\u001b[0;31mKeyboardInterrupt\u001b[0m                         Traceback (most recent call last)",
            "\u001b[0;32m<ipython-input-5-6ffe8f9e50a2>\u001b[0m in \u001b[0;36m<module>\u001b[0;34m\u001b[0m\n\u001b[1;32m     15\u001b[0m \u001b[0;34m\u001b[0m\u001b[0m\n\u001b[1;32m     16\u001b[0m \u001b[0mclf\u001b[0m \u001b[0;34m=\u001b[0m \u001b[0mGridSearchCV\u001b[0m\u001b[0;34m(\u001b[0m\u001b[0mregr\u001b[0m\u001b[0;34m,\u001b[0m \u001b[0mparameter_space\u001b[0m\u001b[0;34m,\u001b[0m \u001b[0mn_jobs\u001b[0m\u001b[0;34m=\u001b[0m\u001b[0;34m-\u001b[0m\u001b[0;36m1\u001b[0m\u001b[0;34m,\u001b[0m \u001b[0mcv\u001b[0m\u001b[0;34m=\u001b[0m\u001b[0;36m3\u001b[0m\u001b[0;34m)\u001b[0m\u001b[0;34m\u001b[0m\u001b[0;34m\u001b[0m\u001b[0m\n\u001b[0;32m---> 17\u001b[0;31m \u001b[0mclf\u001b[0m\u001b[0;34m.\u001b[0m\u001b[0mfit\u001b[0m\u001b[0;34m(\u001b[0m\u001b[0mX_train\u001b[0m\u001b[0;34m,\u001b[0m \u001b[0my_train\u001b[0m\u001b[0;34m)\u001b[0m\u001b[0;34m\u001b[0m\u001b[0;34m\u001b[0m\u001b[0m\n\u001b[0m\u001b[1;32m     18\u001b[0m \u001b[0;34m\u001b[0m\u001b[0m\n\u001b[1;32m     19\u001b[0m \u001b[0;31m# Best paramete set\u001b[0m\u001b[0;34m\u001b[0m\u001b[0;34m\u001b[0m\u001b[0;34m\u001b[0m\u001b[0m\n",
            "\u001b[0;32m/usr/local/lib/python3.7/dist-packages/sklearn/model_selection/_search.py\u001b[0m in \u001b[0;36mfit\u001b[0;34m(self, X, y, groups, **fit_params)\u001b[0m\n\u001b[1;32m    889\u001b[0m                 \u001b[0;32mreturn\u001b[0m \u001b[0mresults\u001b[0m\u001b[0;34m\u001b[0m\u001b[0;34m\u001b[0m\u001b[0m\n\u001b[1;32m    890\u001b[0m \u001b[0;34m\u001b[0m\u001b[0m\n\u001b[0;32m--> 891\u001b[0;31m             \u001b[0mself\u001b[0m\u001b[0;34m.\u001b[0m\u001b[0m_run_search\u001b[0m\u001b[0;34m(\u001b[0m\u001b[0mevaluate_candidates\u001b[0m\u001b[0;34m)\u001b[0m\u001b[0;34m\u001b[0m\u001b[0;34m\u001b[0m\u001b[0m\n\u001b[0m\u001b[1;32m    892\u001b[0m \u001b[0;34m\u001b[0m\u001b[0m\n\u001b[1;32m    893\u001b[0m             \u001b[0;31m# multimetric is determined here because in the case of a callable\u001b[0m\u001b[0;34m\u001b[0m\u001b[0;34m\u001b[0m\u001b[0;34m\u001b[0m\u001b[0m\n",
            "\u001b[0;32m/usr/local/lib/python3.7/dist-packages/sklearn/model_selection/_search.py\u001b[0m in \u001b[0;36m_run_search\u001b[0;34m(self, evaluate_candidates)\u001b[0m\n\u001b[1;32m   1390\u001b[0m     \u001b[0;32mdef\u001b[0m \u001b[0m_run_search\u001b[0m\u001b[0;34m(\u001b[0m\u001b[0mself\u001b[0m\u001b[0;34m,\u001b[0m \u001b[0mevaluate_candidates\u001b[0m\u001b[0;34m)\u001b[0m\u001b[0;34m:\u001b[0m\u001b[0;34m\u001b[0m\u001b[0;34m\u001b[0m\u001b[0m\n\u001b[1;32m   1391\u001b[0m         \u001b[0;34m\"\"\"Search all candidates in param_grid\"\"\"\u001b[0m\u001b[0;34m\u001b[0m\u001b[0;34m\u001b[0m\u001b[0m\n\u001b[0;32m-> 1392\u001b[0;31m         \u001b[0mevaluate_candidates\u001b[0m\u001b[0;34m(\u001b[0m\u001b[0mParameterGrid\u001b[0m\u001b[0;34m(\u001b[0m\u001b[0mself\u001b[0m\u001b[0;34m.\u001b[0m\u001b[0mparam_grid\u001b[0m\u001b[0;34m)\u001b[0m\u001b[0;34m)\u001b[0m\u001b[0;34m\u001b[0m\u001b[0;34m\u001b[0m\u001b[0m\n\u001b[0m\u001b[1;32m   1393\u001b[0m \u001b[0;34m\u001b[0m\u001b[0m\n\u001b[1;32m   1394\u001b[0m \u001b[0;34m\u001b[0m\u001b[0m\n",
            "\u001b[0;32m/usr/local/lib/python3.7/dist-packages/sklearn/model_selection/_search.py\u001b[0m in \u001b[0;36mevaluate_candidates\u001b[0;34m(candidate_params, cv, more_results)\u001b[0m\n\u001b[1;32m    849\u001b[0m                     )\n\u001b[1;32m    850\u001b[0m                     for (cand_idx, parameters), (split_idx, (train, test)) in product(\n\u001b[0;32m--> 851\u001b[0;31m                         \u001b[0menumerate\u001b[0m\u001b[0;34m(\u001b[0m\u001b[0mcandidate_params\u001b[0m\u001b[0;34m)\u001b[0m\u001b[0;34m,\u001b[0m \u001b[0menumerate\u001b[0m\u001b[0;34m(\u001b[0m\u001b[0mcv\u001b[0m\u001b[0;34m.\u001b[0m\u001b[0msplit\u001b[0m\u001b[0;34m(\u001b[0m\u001b[0mX\u001b[0m\u001b[0;34m,\u001b[0m \u001b[0my\u001b[0m\u001b[0;34m,\u001b[0m \u001b[0mgroups\u001b[0m\u001b[0;34m)\u001b[0m\u001b[0;34m)\u001b[0m\u001b[0;34m\u001b[0m\u001b[0;34m\u001b[0m\u001b[0m\n\u001b[0m\u001b[1;32m    852\u001b[0m                     )\n\u001b[1;32m    853\u001b[0m                 )\n",
            "\u001b[0;32m/usr/local/lib/python3.7/dist-packages/joblib/parallel.py\u001b[0m in \u001b[0;36m__call__\u001b[0;34m(self, iterable)\u001b[0m\n\u001b[1;32m   1096\u001b[0m \u001b[0;34m\u001b[0m\u001b[0m\n\u001b[1;32m   1097\u001b[0m             \u001b[0;32mwith\u001b[0m \u001b[0mself\u001b[0m\u001b[0;34m.\u001b[0m\u001b[0m_backend\u001b[0m\u001b[0;34m.\u001b[0m\u001b[0mretrieval_context\u001b[0m\u001b[0;34m(\u001b[0m\u001b[0;34m)\u001b[0m\u001b[0;34m:\u001b[0m\u001b[0;34m\u001b[0m\u001b[0;34m\u001b[0m\u001b[0m\n\u001b[0;32m-> 1098\u001b[0;31m                 \u001b[0mself\u001b[0m\u001b[0;34m.\u001b[0m\u001b[0mretrieve\u001b[0m\u001b[0;34m(\u001b[0m\u001b[0;34m)\u001b[0m\u001b[0;34m\u001b[0m\u001b[0;34m\u001b[0m\u001b[0m\n\u001b[0m\u001b[1;32m   1099\u001b[0m             \u001b[0;31m# Make sure that we get a last message telling us we are done\u001b[0m\u001b[0;34m\u001b[0m\u001b[0;34m\u001b[0m\u001b[0;34m\u001b[0m\u001b[0m\n\u001b[1;32m   1100\u001b[0m             \u001b[0melapsed_time\u001b[0m \u001b[0;34m=\u001b[0m \u001b[0mtime\u001b[0m\u001b[0;34m.\u001b[0m\u001b[0mtime\u001b[0m\u001b[0;34m(\u001b[0m\u001b[0;34m)\u001b[0m \u001b[0;34m-\u001b[0m \u001b[0mself\u001b[0m\u001b[0;34m.\u001b[0m\u001b[0m_start_time\u001b[0m\u001b[0;34m\u001b[0m\u001b[0;34m\u001b[0m\u001b[0m\n",
            "\u001b[0;32m/usr/local/lib/python3.7/dist-packages/joblib/parallel.py\u001b[0m in \u001b[0;36mretrieve\u001b[0;34m(self)\u001b[0m\n\u001b[1;32m    973\u001b[0m             \u001b[0;32mtry\u001b[0m\u001b[0;34m:\u001b[0m\u001b[0;34m\u001b[0m\u001b[0;34m\u001b[0m\u001b[0m\n\u001b[1;32m    974\u001b[0m                 \u001b[0;32mif\u001b[0m \u001b[0mgetattr\u001b[0m\u001b[0;34m(\u001b[0m\u001b[0mself\u001b[0m\u001b[0;34m.\u001b[0m\u001b[0m_backend\u001b[0m\u001b[0;34m,\u001b[0m \u001b[0;34m'supports_timeout'\u001b[0m\u001b[0;34m,\u001b[0m \u001b[0;32mFalse\u001b[0m\u001b[0;34m)\u001b[0m\u001b[0;34m:\u001b[0m\u001b[0;34m\u001b[0m\u001b[0;34m\u001b[0m\u001b[0m\n\u001b[0;32m--> 975\u001b[0;31m                     \u001b[0mself\u001b[0m\u001b[0;34m.\u001b[0m\u001b[0m_output\u001b[0m\u001b[0;34m.\u001b[0m\u001b[0mextend\u001b[0m\u001b[0;34m(\u001b[0m\u001b[0mjob\u001b[0m\u001b[0;34m.\u001b[0m\u001b[0mget\u001b[0m\u001b[0;34m(\u001b[0m\u001b[0mtimeout\u001b[0m\u001b[0;34m=\u001b[0m\u001b[0mself\u001b[0m\u001b[0;34m.\u001b[0m\u001b[0mtimeout\u001b[0m\u001b[0;34m)\u001b[0m\u001b[0;34m)\u001b[0m\u001b[0;34m\u001b[0m\u001b[0;34m\u001b[0m\u001b[0m\n\u001b[0m\u001b[1;32m    976\u001b[0m                 \u001b[0;32melse\u001b[0m\u001b[0;34m:\u001b[0m\u001b[0;34m\u001b[0m\u001b[0;34m\u001b[0m\u001b[0m\n\u001b[1;32m    977\u001b[0m                     \u001b[0mself\u001b[0m\u001b[0;34m.\u001b[0m\u001b[0m_output\u001b[0m\u001b[0;34m.\u001b[0m\u001b[0mextend\u001b[0m\u001b[0;34m(\u001b[0m\u001b[0mjob\u001b[0m\u001b[0;34m.\u001b[0m\u001b[0mget\u001b[0m\u001b[0;34m(\u001b[0m\u001b[0;34m)\u001b[0m\u001b[0;34m)\u001b[0m\u001b[0;34m\u001b[0m\u001b[0;34m\u001b[0m\u001b[0m\n",
            "\u001b[0;32m/usr/local/lib/python3.7/dist-packages/joblib/_parallel_backends.py\u001b[0m in \u001b[0;36mwrap_future_result\u001b[0;34m(future, timeout)\u001b[0m\n\u001b[1;32m    565\u001b[0m         AsyncResults.get from multiprocessing.\"\"\"\n\u001b[1;32m    566\u001b[0m         \u001b[0;32mtry\u001b[0m\u001b[0;34m:\u001b[0m\u001b[0;34m\u001b[0m\u001b[0;34m\u001b[0m\u001b[0m\n\u001b[0;32m--> 567\u001b[0;31m             \u001b[0;32mreturn\u001b[0m \u001b[0mfuture\u001b[0m\u001b[0;34m.\u001b[0m\u001b[0mresult\u001b[0m\u001b[0;34m(\u001b[0m\u001b[0mtimeout\u001b[0m\u001b[0;34m=\u001b[0m\u001b[0mtimeout\u001b[0m\u001b[0;34m)\u001b[0m\u001b[0;34m\u001b[0m\u001b[0;34m\u001b[0m\u001b[0m\n\u001b[0m\u001b[1;32m    568\u001b[0m         \u001b[0;32mexcept\u001b[0m \u001b[0mCfTimeoutError\u001b[0m \u001b[0;32mas\u001b[0m \u001b[0me\u001b[0m\u001b[0;34m:\u001b[0m\u001b[0;34m\u001b[0m\u001b[0;34m\u001b[0m\u001b[0m\n\u001b[1;32m    569\u001b[0m             \u001b[0;32mraise\u001b[0m \u001b[0mTimeoutError\u001b[0m \u001b[0;32mfrom\u001b[0m \u001b[0me\u001b[0m\u001b[0;34m\u001b[0m\u001b[0;34m\u001b[0m\u001b[0m\n",
            "\u001b[0;32m/usr/lib/python3.7/concurrent/futures/_base.py\u001b[0m in \u001b[0;36mresult\u001b[0;34m(self, timeout)\u001b[0m\n\u001b[1;32m    428\u001b[0m                 \u001b[0;32mreturn\u001b[0m \u001b[0mself\u001b[0m\u001b[0;34m.\u001b[0m\u001b[0m__get_result\u001b[0m\u001b[0;34m(\u001b[0m\u001b[0;34m)\u001b[0m\u001b[0;34m\u001b[0m\u001b[0;34m\u001b[0m\u001b[0m\n\u001b[1;32m    429\u001b[0m \u001b[0;34m\u001b[0m\u001b[0m\n\u001b[0;32m--> 430\u001b[0;31m             \u001b[0mself\u001b[0m\u001b[0;34m.\u001b[0m\u001b[0m_condition\u001b[0m\u001b[0;34m.\u001b[0m\u001b[0mwait\u001b[0m\u001b[0;34m(\u001b[0m\u001b[0mtimeout\u001b[0m\u001b[0;34m)\u001b[0m\u001b[0;34m\u001b[0m\u001b[0;34m\u001b[0m\u001b[0m\n\u001b[0m\u001b[1;32m    431\u001b[0m \u001b[0;34m\u001b[0m\u001b[0m\n\u001b[1;32m    432\u001b[0m             \u001b[0;32mif\u001b[0m \u001b[0mself\u001b[0m\u001b[0;34m.\u001b[0m\u001b[0m_state\u001b[0m \u001b[0;32min\u001b[0m \u001b[0;34m[\u001b[0m\u001b[0mCANCELLED\u001b[0m\u001b[0;34m,\u001b[0m \u001b[0mCANCELLED_AND_NOTIFIED\u001b[0m\u001b[0;34m]\u001b[0m\u001b[0;34m:\u001b[0m\u001b[0;34m\u001b[0m\u001b[0;34m\u001b[0m\u001b[0m\n",
            "\u001b[0;32m/usr/lib/python3.7/threading.py\u001b[0m in \u001b[0;36mwait\u001b[0;34m(self, timeout)\u001b[0m\n\u001b[1;32m    294\u001b[0m         \u001b[0;32mtry\u001b[0m\u001b[0;34m:\u001b[0m    \u001b[0;31m# restore state no matter what (e.g., KeyboardInterrupt)\u001b[0m\u001b[0;34m\u001b[0m\u001b[0;34m\u001b[0m\u001b[0m\n\u001b[1;32m    295\u001b[0m             \u001b[0;32mif\u001b[0m \u001b[0mtimeout\u001b[0m \u001b[0;32mis\u001b[0m \u001b[0;32mNone\u001b[0m\u001b[0;34m:\u001b[0m\u001b[0;34m\u001b[0m\u001b[0;34m\u001b[0m\u001b[0m\n\u001b[0;32m--> 296\u001b[0;31m                 \u001b[0mwaiter\u001b[0m\u001b[0;34m.\u001b[0m\u001b[0macquire\u001b[0m\u001b[0;34m(\u001b[0m\u001b[0;34m)\u001b[0m\u001b[0;34m\u001b[0m\u001b[0;34m\u001b[0m\u001b[0m\n\u001b[0m\u001b[1;32m    297\u001b[0m                 \u001b[0mgotit\u001b[0m \u001b[0;34m=\u001b[0m \u001b[0;32mTrue\u001b[0m\u001b[0;34m\u001b[0m\u001b[0;34m\u001b[0m\u001b[0m\n\u001b[1;32m    298\u001b[0m             \u001b[0;32melse\u001b[0m\u001b[0;34m:\u001b[0m\u001b[0;34m\u001b[0m\u001b[0;34m\u001b[0m\u001b[0m\n",
            "\u001b[0;31mKeyboardInterrupt\u001b[0m: "
          ]
        }
      ],
      "source": [
        "# Hyperparameter tuning\n",
        "from sklearn.neural_network import MLPRegressor\n",
        "from sklearn.model_selection import GridSearchCV\n",
        "\n",
        "regr = MLPRegressor(max_iter=100)\n",
        "parameter_space = {\n",
        "    'hidden_layer_sizes': [(256,128,64,16,4),(133,128,64,4), (128, 64, 16, 4), (133, 64, 4), (64,32,4), (64,4), (4)],\n",
        "    # 'activation': [ 'relu', 'logistic', 'tanh'], after running, relu gives the best performance, so we omit the other two here for faster computation\n",
        "    'activation': [ 'relu'],\n",
        "    # 'solver': ['adam', 'sgd'],\n",
        "    'solver': ['adam'],\n",
        "    'alpha': [0.0001, 0.001],\n",
        "    'learning_rate': ['constant'],\n",
        "}\n",
        "\n",
        "clf = GridSearchCV(regr, parameter_space, n_jobs=-1, cv=3)\n",
        "clf.fit(X_train, y_train)\n",
        "\n",
        "# Best paramete set\n",
        "print('Best parameters found:\\n', clf.best_params_)\n",
        "\n",
        "# All results \n",
        "means = clf.cv_results_['mean_test_score']\n",
        "stds = clf.cv_results_['std_test_score']\n",
        "for mean, std, params in zip(means, stds, clf.cv_results_['params']):\n",
        "    print(\"%0.3f (+/-%0.03f) for %r\" % (mean, std * 2, params))"
      ]
    },
    {
      "cell_type": "markdown",
      "source": [
        "Results are copied here as it takes around 30+ minutes to run: \n",
        "\n",
        "Best parameters found:\n",
        " {'activation': 'relu', 'alpha': 0.0001, 'hidden_layer_sizes': (64, 4), 'learning_rate': 'constant', 'solver': 'adam'}\n",
        "\n",
        "\n",
        "0.039 (+/-1.223) for {'activation': 'relu', 'alpha': 0.0001, 'hidden_layer_sizes': (256, 128, 64, 16, 4), 'learning_rate': 'constant', 'solver': 'adam'}\n",
        "\n",
        "\n",
        "0.311 (+/-0.581) for {'activation': 'relu', 'alpha': 0.0001, 'hidden_layer_sizes': (133, 128, 64, 4), 'learning_rate': 'constant', 'solver': 'adam'}\n",
        "\n",
        "\n",
        "0.353 (+/-0.507) for {'activation': 'relu', 'alpha': 0.0001, 'hidden_layer_sizes': (128, 64, 16, 4), 'learning_rate': 'constant', 'solver': 'adam'}\n",
        "\n",
        "\n",
        "0.510 (+/-0.226) for {'activation': 'relu', 'alpha': 0.0001, 'hidden_layer_sizes': (133, 64, 4), 'learning_rate': 'constant', 'solver': 'adam'}\n",
        "\n",
        "\n",
        "0.517 (+/-0.277) for {'activation': 'relu', 'alpha': 0.0001, 'hidden_layer_sizes': (64, 32, 4), 'learning_rate': 'constant', 'solver': 'adam'}\n",
        "\n",
        "\n",
        "0.543 (+/-0.130) for {'activation': 'relu', 'alpha': 0.0001, 'hidden_layer_sizes': (64, 4), 'learning_rate': 'constant', 'solver': 'adam'}\n",
        "\n",
        "\n",
        "0.276 (+/-0.096) for {'activation': 'relu', 'alpha': 0.0001, 'hidden_layer_sizes': 4, 'learning_rate': 'constant', 'solver': 'adam'}\n",
        "\n",
        "\n",
        "-0.070 (+/-0.888) for {'activation': 'relu', 'alpha': 0.001, 'hidden_layer_sizes': (256, 128, 64, 16, 4), 'learning_rate': 'constant', 'solver': 'adam'}\n",
        "\n",
        "\n",
        "0.095 (+/-0.720) for {'activation': 'relu', 'alpha': 0.001, 'hidden_layer_sizes': (133, 128, 64, 4), 'learning_rate': 'constant', 'solver': 'adam'}\n",
        "\n",
        "\n",
        "0.428 (+/-0.365) for {'activation': 'relu', 'alpha': 0.001, 'hidden_layer_sizes': (128, 64, 16, 4), 'learning_rate': 'constant', 'solver': 'adam'}\n",
        "\n",
        "\n",
        "0.446 (+/-0.366) for {'activation': 'relu', 'alpha': 0.001, 'hidden_layer_sizes': (133, 64, 4), 'learning_rate': 'constant', 'solver': 'adam'}\n",
        "\n",
        "\n",
        "0.436 (+/-0.233) for {'activation': 'relu', 'alpha': 0.001, 'hidden_layer_sizes': (64, 32, 4), 'learning_rate': 'constant', 'solver': 'adam'}\n",
        "\n",
        "\n",
        "0.369 (+/-0.494) for {'activation': 'relu', 'alpha': 0.001, 'hidden_layer_sizes': (64, 4), 'learning_rate': 'constant', 'solver': 'adam'}\n",
        "\n",
        "\n",
        "0.248 (+/-0.292) for {'activation': 'relu', 'alpha': 0.001, 'hidden_layer_sizes': 4, 'learning_rate': 'constant', 'solver': 'adam'}"
      ],
      "metadata": {
        "id": "kGKmRwpY8K7z"
      }
    },
    {
      "cell_type": "code",
      "execution_count": null,
      "metadata": {
        "colab": {
          "base_uri": "https://localhost:8080/"
        },
        "id": "cQT3jxx5ukTK",
        "outputId": "3396eed7-bbd5-44ce-f267-192343be14a9"
      },
      "outputs": [
        {
          "output_type": "stream",
          "name": "stderr",
          "text": [
            "/usr/local/lib/python3.7/dist-packages/sklearn/neural_network/_multilayer_perceptron.py:1599: DataConversionWarning: A column-vector y was passed when a 1d array was expected. Please change the shape of y to (n_samples, ), for example using ravel().\n",
            "  y = column_or_1d(y, warn=True)\n"
          ]
        },
        {
          "output_type": "stream",
          "name": "stdout",
          "text": [
            "R2 score: 0.3706078974251238\n"
          ]
        }
      ],
      "source": [
        "from sklearn.neural_network import MLPRegressor\n",
        "\n",
        "# Using the best performing hyperparameters\n",
        "regr = MLPRegressor(random_state = 1, max_iter=600, hidden_layer_sizes = (64, 4)).fit(X_train, y_train)\n",
        "score = regr.score(X_test, y_test)\n",
        "print(\"R2 score:\", score)"
      ]
    },
    {
      "cell_type": "code",
      "source": [
        "from sklearn.metrics import mean_squared_error\n",
        "y_pred = regr.predict(X_test)\n",
        "mse = mean_squared_error(y_test, y_pred)\n",
        "print(\"MSE:\", mse)"
      ],
      "metadata": {
        "colab": {
          "base_uri": "https://localhost:8080/"
        },
        "id": "nLqJa8ufwcj5",
        "outputId": "0595b388-4a92-46db-940a-a55b257e18d0"
      },
      "execution_count": null,
      "outputs": [
        {
          "output_type": "stream",
          "name": "stdout",
          "text": [
            "805.8783915309074\n"
          ]
        }
      ]
    }
  ],
  "metadata": {
    "colab": {
      "provenance": []
    },
    "gpuClass": "standard",
    "kernelspec": {
      "display_name": "Python 3",
      "name": "python3"
    },
    "language_info": {
      "name": "python"
    }
  },
  "nbformat": 4,
  "nbformat_minor": 0
}