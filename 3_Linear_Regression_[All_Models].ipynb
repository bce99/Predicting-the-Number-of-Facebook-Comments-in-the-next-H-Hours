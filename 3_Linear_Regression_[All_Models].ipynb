{
  "nbformat": 4,
  "nbformat_minor": 0,
  "metadata": {
    "colab": {
      "provenance": []
    },
    "kernelspec": {
      "name": "python3",
      "display_name": "Python 3"
    },
    "language_info": {
      "name": "python"
    }
  },
  "cells": [
    {
      "cell_type": "markdown",
      "source": [
        "## Inspecting size of data variants + create diagrams for slides"
      ],
      "metadata": {
        "id": "9b9c0s4KhPXW"
      }
    },
    {
      "cell_type": "markdown",
      "source": [
        "Dataset description page: https://archive.ics.uci.edu/ml/datasets/Facebook+Comment+Volume+Dataset"
      ],
      "metadata": {
        "id": "1zArcgiN5DBB"
      }
    },
    {
      "cell_type": "code",
      "execution_count": null,
      "metadata": {
        "id": "krIeUH5zSkJ8",
        "colab": {
          "base_uri": "https://localhost:8080/"
        },
        "outputId": "e3f68e5f-d663-478b-884a-dcdede5a1840"
      },
      "outputs": [
        {
          "output_type": "stream",
          "name": "stdout",
          "text": [
            "Downloading...\n",
            "From: https://drive.google.com/uc?id=1ak_rxZ1XrenunEZK62t9U61XYe8mp-EU\n",
            "To: /content/Dataset.zip\n",
            "100% 19.1M/19.1M [00:00<00:00, 39.3MB/s]\n",
            "Archive:  /content/Dataset.zip\n",
            "   creating: /content/unzipped_data/Dataset/\n",
            "  inflating: /content/unzipped_data/Dataset/.DS_Store  \n",
            "   creating: /content/unzipped_data/__MACOSX/\n",
            "   creating: /content/unzipped_data/__MACOSX/Dataset/\n",
            "  inflating: /content/unzipped_data/__MACOSX/Dataset/._.DS_Store  \n",
            "  inflating: /content/unzipped_data/Dataset/Catagory_File - Feature 4.pdf  \n",
            "  inflating: /content/unzipped_data/__MACOSX/Dataset/._Catagory_File - Feature 4.pdf  \n",
            "   creating: /content/unzipped_data/Dataset/Testing/\n",
            "  inflating: /content/unzipped_data/Dataset/Testing/.DS_Store  \n",
            "   creating: /content/unzipped_data/__MACOSX/Dataset/Testing/\n",
            "  inflating: /content/unzipped_data/__MACOSX/Dataset/Testing/._.DS_Store  \n",
            "  inflating: /content/unzipped_data/Dataset/Testing/Features_TestSet.csv  \n",
            "  inflating: /content/unzipped_data/__MACOSX/Dataset/Testing/._Features_TestSet.csv  \n",
            "   creating: /content/unzipped_data/Dataset/Testing/TestSet/\n",
            "  inflating: /content/unzipped_data/Dataset/Testing/TestSet/Test_Case_1.arff  \n",
            "   creating: /content/unzipped_data/__MACOSX/Dataset/Testing/TestSet/\n",
            "  inflating: /content/unzipped_data/__MACOSX/Dataset/Testing/TestSet/._Test_Case_1.arff  \n",
            "  inflating: /content/unzipped_data/Dataset/Testing/TestSet/Test_Case_1.csv  \n",
            "  inflating: /content/unzipped_data/__MACOSX/Dataset/Testing/TestSet/._Test_Case_1.csv  \n",
            "  inflating: /content/unzipped_data/Dataset/Testing/TestSet/Test_Case_10.arff  \n",
            "  inflating: /content/unzipped_data/__MACOSX/Dataset/Testing/TestSet/._Test_Case_10.arff  \n",
            "  inflating: /content/unzipped_data/Dataset/Testing/TestSet/Test_Case_10.csv  \n",
            "  inflating: /content/unzipped_data/__MACOSX/Dataset/Testing/TestSet/._Test_Case_10.csv  \n",
            "  inflating: /content/unzipped_data/Dataset/Testing/TestSet/Test_Case_2.arff  \n",
            "  inflating: /content/unzipped_data/__MACOSX/Dataset/Testing/TestSet/._Test_Case_2.arff  \n",
            "  inflating: /content/unzipped_data/Dataset/Testing/TestSet/Test_Case_2.csv  \n",
            "  inflating: /content/unzipped_data/__MACOSX/Dataset/Testing/TestSet/._Test_Case_2.csv  \n",
            "  inflating: /content/unzipped_data/Dataset/Testing/TestSet/Test_Case_3.arff  \n",
            "  inflating: /content/unzipped_data/__MACOSX/Dataset/Testing/TestSet/._Test_Case_3.arff  \n",
            "  inflating: /content/unzipped_data/Dataset/Testing/TestSet/Test_Case_3.csv  \n",
            "  inflating: /content/unzipped_data/__MACOSX/Dataset/Testing/TestSet/._Test_Case_3.csv  \n",
            "  inflating: /content/unzipped_data/Dataset/Testing/TestSet/Test_Case_4.arff  \n",
            "  inflating: /content/unzipped_data/__MACOSX/Dataset/Testing/TestSet/._Test_Case_4.arff  \n",
            "  inflating: /content/unzipped_data/Dataset/Testing/TestSet/Test_Case_4.csv  \n",
            "  inflating: /content/unzipped_data/__MACOSX/Dataset/Testing/TestSet/._Test_Case_4.csv  \n",
            "  inflating: /content/unzipped_data/Dataset/Testing/TestSet/Test_Case_5.arff  \n",
            "  inflating: /content/unzipped_data/__MACOSX/Dataset/Testing/TestSet/._Test_Case_5.arff  \n",
            "  inflating: /content/unzipped_data/Dataset/Testing/TestSet/Test_Case_5.csv  \n",
            "  inflating: /content/unzipped_data/__MACOSX/Dataset/Testing/TestSet/._Test_Case_5.csv  \n",
            "  inflating: /content/unzipped_data/Dataset/Testing/TestSet/Test_Case_6.arff  \n",
            "  inflating: /content/unzipped_data/__MACOSX/Dataset/Testing/TestSet/._Test_Case_6.arff  \n",
            "  inflating: /content/unzipped_data/Dataset/Testing/TestSet/Test_Case_6.csv  \n",
            "  inflating: /content/unzipped_data/__MACOSX/Dataset/Testing/TestSet/._Test_Case_6.csv  \n",
            "  inflating: /content/unzipped_data/Dataset/Testing/TestSet/Test_Case_7.arff  \n",
            "  inflating: /content/unzipped_data/__MACOSX/Dataset/Testing/TestSet/._Test_Case_7.arff  \n",
            "  inflating: /content/unzipped_data/Dataset/Testing/TestSet/Test_Case_7.csv  \n",
            "  inflating: /content/unzipped_data/__MACOSX/Dataset/Testing/TestSet/._Test_Case_7.csv  \n",
            "  inflating: /content/unzipped_data/Dataset/Testing/TestSet/Test_Case_8.arff  \n",
            "  inflating: /content/unzipped_data/__MACOSX/Dataset/Testing/TestSet/._Test_Case_8.arff  \n",
            "  inflating: /content/unzipped_data/Dataset/Testing/TestSet/Test_Case_8.csv  \n",
            "  inflating: /content/unzipped_data/__MACOSX/Dataset/Testing/TestSet/._Test_Case_8.csv  \n",
            "  inflating: /content/unzipped_data/Dataset/Testing/TestSet/Test_Case_9.arff  \n",
            "  inflating: /content/unzipped_data/__MACOSX/Dataset/Testing/TestSet/._Test_Case_9.arff  \n",
            "  inflating: /content/unzipped_data/Dataset/Testing/TestSet/Test_Case_9.csv  \n",
            "  inflating: /content/unzipped_data/__MACOSX/Dataset/Testing/TestSet/._Test_Case_9.csv  \n",
            "  inflating: /content/unzipped_data/__MACOSX/Dataset/Testing/._TestSet  \n",
            "   creating: /content/unzipped_data/Dataset/Training/\n",
            "  inflating: /content/unzipped_data/Dataset/Training/Features_Variant_1.arff  \n",
            "   creating: /content/unzipped_data/__MACOSX/Dataset/Training/\n",
            "  inflating: /content/unzipped_data/__MACOSX/Dataset/Training/._Features_Variant_1.arff  \n",
            "  inflating: /content/unzipped_data/Dataset/Training/Features_Variant_1.csv  \n",
            "  inflating: /content/unzipped_data/__MACOSX/Dataset/Training/._Features_Variant_1.csv  \n",
            "  inflating: /content/unzipped_data/Dataset/Training/Features_Variant_2.arff  \n",
            "  inflating: /content/unzipped_data/__MACOSX/Dataset/Training/._Features_Variant_2.arff  \n",
            "  inflating: /content/unzipped_data/Dataset/Training/Features_Variant_2.csv  \n",
            "  inflating: /content/unzipped_data/__MACOSX/Dataset/Training/._Features_Variant_2.csv  \n",
            "  inflating: /content/unzipped_data/Dataset/Training/Features_Variant_3.arff  \n",
            "  inflating: /content/unzipped_data/__MACOSX/Dataset/Training/._Features_Variant_3.arff  \n",
            "  inflating: /content/unzipped_data/Dataset/Training/Features_Variant_3.csv  \n",
            "  inflating: /content/unzipped_data/__MACOSX/Dataset/Training/._Features_Variant_3.csv  \n",
            "  inflating: /content/unzipped_data/Dataset/Training/Features_Variant_4.arff  \n",
            "  inflating: /content/unzipped_data/__MACOSX/Dataset/Training/._Features_Variant_4.arff  \n",
            "  inflating: /content/unzipped_data/Dataset/Training/Features_Variant_4.csv  \n",
            "  inflating: /content/unzipped_data/__MACOSX/Dataset/Training/._Features_Variant_4.csv  \n",
            "  inflating: /content/unzipped_data/Dataset/Training/Features_Variant_5.arff  \n",
            "  inflating: /content/unzipped_data/__MACOSX/Dataset/Training/._Features_Variant_5.arff  \n",
            "  inflating: /content/unzipped_data/Dataset/Training/Features_Variant_5.csv  \n",
            "  inflating: /content/unzipped_data/__MACOSX/Dataset/Training/._Features_Variant_5.csv  \n"
          ]
        }
      ],
      "source": [
        "# Loading the dataset(zipped) with a google drive id\n",
        "! gdown 1ak_rxZ1XrenunEZK62t9U61XYe8mp-EU\n",
        "\n",
        "# Unzipping the dataset to a folder named \"unzipped_data\". The directory can be found by clicking on the Files icon on the leftmost column\n",
        "# The command automatically checks for existence of unzipped data so re-running it does not lead to multiple unzips\n",
        "# However, running it for the first time will generate a bunch of checker prints. To remove them for simplicity, simply re-run this cell\n",
        "!unzip -u \"/content/Dataset.zip\" -d \"/content/unzipped_data\""
      ]
    },
    {
      "cell_type": "code",
      "source": [
        "import pandas as pd\n",
        "\n",
        "df1 = pd.read_csv(\"/content/unzipped_data/Dataset/Training/Features_Variant_1.csv\", header = None)\n",
        "df2 = pd.read_csv(\"/content/unzipped_data/Dataset/Training/Features_Variant_2.csv\", header = None)\n",
        "df3 = pd.read_csv(\"/content/unzipped_data/Dataset/Training/Features_Variant_3.csv\", header = None)\n",
        "df4 = pd.read_csv(\"/content/unzipped_data/Dataset/Training/Features_Variant_4.csv\", header = None)\n",
        "df5 = pd.read_csv(\"/content/unzipped_data/Dataset/Training/Features_Variant_5.csv\", header = None)"
      ],
      "metadata": {
        "id": "pvvArvPwhHe-"
      },
      "execution_count": null,
      "outputs": []
    },
    {
      "cell_type": "code",
      "source": [
        "df_length = [len(df1), len(df2), len(df3), len(df4), len(df5)]\n",
        "df_labels = [\"1\", \"2\", \"3\", \"4\", \"5\"]\n",
        "print(df_length)"
      ],
      "metadata": {
        "colab": {
          "base_uri": "https://localhost:8080/"
        },
        "id": "Qyc-ZdrohVG5",
        "outputId": "1c7a49fd-4bfb-41e4-bce9-e9c3f09f094e"
      },
      "execution_count": null,
      "outputs": [
        {
          "output_type": "stream",
          "name": "stdout",
          "text": [
            "[40949, 81312, 121098, 160424, 199030]\n"
          ]
        }
      ]
    },
    {
      "cell_type": "code",
      "source": [
        "import matplotlib.pyplot as plt\n",
        "\n",
        "plt.bar(df_labels, df_length, color = \"#9dc6f8\", width = 0.4)\n",
        "plt.title(\"Number of Rows In Different Dataset Variants\")\n",
        "plt.xlabel(\"Dataset Variant Number\")\n",
        "plt.ylabel(\"Number of Rows\")\n",
        "\n",
        "plt.show()"
      ],
      "metadata": {
        "colab": {
          "base_uri": "https://localhost:8080/",
          "height": 295
        },
        "id": "FfCrT4w6_meW",
        "outputId": "cf8f3e8b-ab48-4b76-941d-d54f0cbd4a67"
      },
      "execution_count": null,
      "outputs": [
        {
          "output_type": "display_data",
          "data": {
            "text/plain": [
              "<Figure size 432x288 with 1 Axes>"
            ],
            "image/png": "[encoded data removed]"
          },
          "metadata": {
            "needs_background": "light"
          }
        }
      ]
    },
    {
      "cell_type": "code",
      "source": [
        "training_set = [8/10 * len(df1), 0, 0, 0, 0, 0]\n",
        "test_set = [2/10 * len(df1), 0, 0, 0, 0, 0]\n",
        "print(8/10 * len(df1))\n",
        "print(2/10 * len(df1))\n",
        "\n",
        "plt.bar([\"1\", \"\", \"\", \"\", \"\", \"\"], test_set, color='#d9d9d9', width = 0.2, label = \"Test Set\")\n",
        "plt.bar([\"1\", \"\", \"\", \"\", \"\", \"\"], training_set, bottom=test_set, color = \"#8e7cc3\", width = 0.2, label = \"Training Set\")\n",
        "plt.xlabel(\"Dataset Variant Number\")\n",
        "plt.ylabel(\"Number of Rows\")\n",
        "plt.title(\"Number of Rows in the Training and Train Set\")\n",
        "plt.legend()\n",
        "plt.show()"
      ],
      "metadata": {
        "colab": {
          "base_uri": "https://localhost:8080/",
          "height": 330
        },
        "id": "ybiz75358k4C",
        "outputId": "1cdde475-4837-4102-c404-145579d241bb"
      },
      "execution_count": null,
      "outputs": [
        {
          "output_type": "stream",
          "name": "stdout",
          "text": [
            "32759.2\n",
            "8189.8\n"
          ]
        },
        {
          "output_type": "display_data",
          "data": {
            "text/plain": [
              "<Figure size 432x288 with 1 Axes>"
            ],
            "image/png": "[encoded data removed]"
          },
          "metadata": {
            "needs_background": "light"
          }
        }
      ]
    },
    {
      "cell_type": "code",
      "source": [
        "column_names = {0: \"page_likes\",\n",
        "                1: \"page_checkins\", #page visits\n",
        "                2: \"page_talking_about\",\n",
        "                3: \"page_category\",\n",
        "                4: \"min_CC1\",\n",
        "                5: \"max_CC1\",\n",
        "                6: \"ave_CC1\",\n",
        "                7: \"med_CC1\",\n",
        "                8: \"std_CC1\",\n",
        "                9: \"min_CC2\",\n",
        "                10: \"max_CC2\",\n",
        "                11: \"ave_CC2\",\n",
        "                12: \"med_CC2\",\n",
        "                13: \"std_CC2\",\n",
        "                14: \"min_CC3\",\n",
        "                15: \"max_CC3\",\n",
        "                16: \"ave_CC3\",\n",
        "                17: \"med_CC3\",\n",
        "                18: \"std_CC3\",\n",
        "                19: \"min_CC4\",\n",
        "                20: \"max_CC4\",\n",
        "                21: \"ave_CC4\",\n",
        "                22: \"med_CC4\",\n",
        "                23: \"std_CC4\",\n",
        "                24: \"min_CC5\",\n",
        "                25: \"max_CC5\",\n",
        "                26: \"ave_CC5\",\n",
        "                27: \"med_CC5\",\n",
        "                28: \"std_CC5\",\n",
        "                29: \"CC1\",\n",
        "                30: \"CC2\",\n",
        "                31: \"CC3\",\n",
        "                32: \"CC4\",\n",
        "                33: \"CC5\",\n",
        "                34: \"base_time\",\n",
        "                35: \"post_length\",\n",
        "                36: \"post_share_count\",\n",
        "                37: \"post_isPromoted\",\n",
        "                38: \"h_local\",\n",
        "                39: \"published_on_sun\",\n",
        "                40: \"published_on_mon\",\n",
        "                41: \"published_on_tue\",\n",
        "                42: \"published_on_wed\",\n",
        "                43: \"published_on_thu\",\n",
        "                44: \"published_on_fri\",\n",
        "                45: \"published_on_sat\",\n",
        "                46: \"base_day_sun\",\n",
        "                47: \"base_day_mon\",\n",
        "                48: \"base_day_tue\",\n",
        "                49: \"base_day_wed\",\n",
        "                50: \"base_day_thu\",\n",
        "                51: \"base_day_fri\",\n",
        "                52: \"base_day_sat\",\n",
        "                53: \"num_comments_in_next_h\"}\n",
        "\n",
        "\n",
        "df1 = df1.rename(columns = column_names)\n",
        "onehotencoding_df = pd.get_dummies(df1, columns=['page_category'])\n",
        "# onehotencoding_df\n",
        "onehotencoding_df[(onehotencoding_df['page_category_89'] == 1) | (onehotencoding_df['page_category_91'] == 1) | (onehotencoding_df['page_category_93'] == 1)| (onehotencoding_df['page_category_96'] == 1)] "
      ],
      "metadata": {
        "colab": {
          "base_uri": "https://localhost:8080/",
          "height": 488
        },
        "id": "r38ZKAXwUnHJ",
        "outputId": "8df7f9fe-e66a-4b34-bc77-35108d29e418"
      },
      "execution_count": null,
      "outputs": [
        {
          "output_type": "execute_result",
          "data": {
            "text/plain": [
              "       page_likes  page_checkins  page_talking_about  min_CC1  max_CC1  \\\n",
              "21514        2008              0                  12      0.0      3.0   \n",
              "21515        2008              0                  12      0.0      3.0   \n",
              "21516        2008              0                  12      0.0      3.0   \n",
              "21517        2008              0                  12      0.0      3.0   \n",
              "21518        2008              0                  12      0.0      3.0   \n",
              "...           ...            ...                 ...      ...      ...   \n",
              "25578       29392              0                 597      0.0     21.0   \n",
              "25579       29392              0                 597      0.0     21.0   \n",
              "25580       29392              0                 597      0.0     21.0   \n",
              "25581       29392              0                 597      0.0     21.0   \n",
              "25582       29392              0                 597      0.0     21.0   \n",
              "\n",
              "        ave_CC1  med_CC1   std_CC1  min_CC2  max_CC2  ...  page_category_89  \\\n",
              "21514  0.454545      0.0  0.940371      0.0      1.0  ...                 1   \n",
              "21515  0.454545      0.0  0.940371      0.0      1.0  ...                 1   \n",
              "21516  0.454545      0.0  0.940371      0.0      1.0  ...                 1   \n",
              "21517  0.454545      0.0  0.940371      0.0      1.0  ...                 1   \n",
              "21518  0.454545      0.0  0.940371      0.0      1.0  ...                 1   \n",
              "...         ...      ...       ...      ...      ...  ...               ...   \n",
              "25578  1.830986      1.0  2.762862      0.0     21.0  ...                 0   \n",
              "25579  1.830986      1.0  2.762862      0.0     21.0  ...                 0   \n",
              "25580  1.830986      1.0  2.762862      0.0     21.0  ...                 0   \n",
              "25581  1.830986      1.0  2.762862      0.0     21.0  ...                 0   \n",
              "25582  1.830986      1.0  2.762862      0.0     21.0  ...                 0   \n",
              "\n",
              "       page_category_90  page_category_91  page_category_92  page_category_93  \\\n",
              "21514                 0                 0                 0                 0   \n",
              "21515                 0                 0                 0                 0   \n",
              "21516                 0                 0                 0                 0   \n",
              "21517                 0                 0                 0                 0   \n",
              "21518                 0                 0                 0                 0   \n",
              "...                 ...               ...               ...               ...   \n",
              "25578                 0                 1                 0                 0   \n",
              "25579                 0                 1                 0                 0   \n",
              "25580                 0                 1                 0                 0   \n",
              "25581                 0                 1                 0                 0   \n",
              "25582                 0                 1                 0                 0   \n",
              "\n",
              "       page_category_96  page_category_100  page_category_101  \\\n",
              "21514                 0                  0                  0   \n",
              "21515                 0                  0                  0   \n",
              "21516                 0                  0                  0   \n",
              "21517                 0                  0                  0   \n",
              "21518                 0                  0                  0   \n",
              "...                 ...                ...                ...   \n",
              "25578                 0                  0                  0   \n",
              "25579                 0                  0                  0   \n",
              "25580                 0                  0                  0   \n",
              "25581                 0                  0                  0   \n",
              "25582                 0                  0                  0   \n",
              "\n",
              "       page_category_105  page_category_106  \n",
              "21514                  0                  0  \n",
              "21515                  0                  0  \n",
              "21516                  0                  0  \n",
              "21517                  0                  0  \n",
              "21518                  0                  0  \n",
              "...                  ...                ...  \n",
              "25578                  0                  0  \n",
              "25579                  0                  0  \n",
              "25580                  0                  0  \n",
              "25581                  0                  0  \n",
              "25582                  0                  0  \n",
              "\n",
              "[300 rows x 134 columns]"
            ],
            "text/html": [
              "\n",
              "  <div id=\"df-2ee7c3f1-5306-4a15-9c68-c589e71b5905\">\n",
              "    <div class=\"colab-df-container\">\n",
              "      <div>\n",
              "<style scoped>\n",
              "    .dataframe tbody tr th:only-of-type {\n",
              "        vertical-align: middle;\n",
              "    }\n",
              "\n",
              "    .dataframe tbody tr th {\n",
              "        vertical-align: top;\n",
              "    }\n",
              "\n",
              "    .dataframe thead th {\n",
              "        text-align: right;\n",
              "    }\n",
              "</style>\n",
              "<table border=\"1\" class=\"dataframe\">\n",
              "  <thead>\n",
              "    <tr style=\"text-align: right;\">\n",
              "      <th></th>\n",
              "      <th>page_likes</th>\n",
              "      <th>page_checkins</th>\n",
              "      <th>page_talking_about</th>\n",
              "      <th>min_CC1</th>\n",
              "      <th>max_CC1</th>\n",
              "      <th>ave_CC1</th>\n",
              "      <th>med_CC1</th>\n",
              "      <th>std_CC1</th>\n",
              "      <th>min_CC2</th>\n",
              "      <th>max_CC2</th>\n",
              "      <th>...</th>\n",
              "      <th>page_category_89</th>\n",
              "      <th>page_category_90</th>\n",
              "      <th>page_category_91</th>\n",
              "      <th>page_category_92</th>\n",
              "      <th>page_category_93</th>\n",
              "      <th>page_category_96</th>\n",
              "      <th>page_category_100</th>\n",
              "      <th>page_category_101</th>\n",
              "      <th>page_category_105</th>\n",
              "      <th>page_category_106</th>\n",
              "    </tr>\n",
              "  </thead>\n",
              "  <tbody>\n",
              "    <tr>\n",
              "      <th>21514</th>\n",
              "      <td>2008</td>\n",
              "      <td>0</td>\n",
              "      <td>12</td>\n",
              "      <td>0.0</td>\n",
              "      <td>3.0</td>\n",
              "      <td>0.454545</td>\n",
              "      <td>0.0</td>\n",
              "      <td>0.940371</td>\n",
              "      <td>0.0</td>\n",
              "      <td>1.0</td>\n",
              "      <td>...</td>\n",
              "      <td>1</td>\n",
              "      <td>0</td>\n",
              "      <td>0</td>\n",
              "      <td>0</td>\n",
              "      <td>0</td>\n",
              "      <td>0</td>\n",
              "      <td>0</td>\n",
              "      <td>0</td>\n",
              "      <td>0</td>\n",
              "      <td>0</td>\n",
              "    </tr>\n",
              "    <tr>\n",
              "      <th>21515</th>\n",
              "      <td>2008</td>\n",
              "      <td>0</td>\n",
              "      <td>12</td>\n",
              "      <td>0.0</td>\n",
              "      <td>3.0</td>\n",
              "      <td>0.454545</td>\n",
              "      <td>0.0</td>\n",
              "      <td>0.940371</td>\n",
              "      <td>0.0</td>\n",
              "      <td>1.0</td>\n",
              "      <td>...</td>\n",
              "      <td>1</td>\n",
              "      <td>0</td>\n",
              "      <td>0</td>\n",
              "      <td>0</td>\n",
              "      <td>0</td>\n",
              "      <td>0</td>\n",
              "      <td>0</td>\n",
              "      <td>0</td>\n",
              "      <td>0</td>\n",
              "      <td>0</td>\n",
              "    </tr>\n",
              "    <tr>\n",
              "      <th>21516</th>\n",
              "      <td>2008</td>\n",
              "      <td>0</td>\n",
              "      <td>12</td>\n",
              "      <td>0.0</td>\n",
              "      <td>3.0</td>\n",
              "      <td>0.454545</td>\n",
              "      <td>0.0</td>\n",
              "      <td>0.940371</td>\n",
              "      <td>0.0</td>\n",
              "      <td>1.0</td>\n",
              "      <td>...</td>\n",
              "      <td>1</td>\n",
              "      <td>0</td>\n",
              "      <td>0</td>\n",
              "      <td>0</td>\n",
              "      <td>0</td>\n",
              "      <td>0</td>\n",
              "      <td>0</td>\n",
              "      <td>0</td>\n",
              "      <td>0</td>\n",
              "      <td>0</td>\n",
              "    </tr>\n",
              "    <tr>\n",
              "      <th>21517</th>\n",
              "      <td>2008</td>\n",
              "      <td>0</td>\n",
              "      <td>12</td>\n",
              "      <td>0.0</td>\n",
              "      <td>3.0</td>\n",
              "      <td>0.454545</td>\n",
              "      <td>0.0</td>\n",
              "      <td>0.940371</td>\n",
              "      <td>0.0</td>\n",
              "      <td>1.0</td>\n",
              "      <td>...</td>\n",
              "      <td>1</td>\n",
              "      <td>0</td>\n",
              "      <td>0</td>\n",
              "      <td>0</td>\n",
              "      <td>0</td>\n",
              "      <td>0</td>\n",
              "      <td>0</td>\n",
              "      <td>0</td>\n",
              "      <td>0</td>\n",
              "      <td>0</td>\n",
              "    </tr>\n",
              "    <tr>\n",
              "      <th>21518</th>\n",
              "      <td>2008</td>\n",
              "      <td>0</td>\n",
              "      <td>12</td>\n",
              "      <td>0.0</td>\n",
              "      <td>3.0</td>\n",
              "      <td>0.454545</td>\n",
              "      <td>0.0</td>\n",
              "      <td>0.940371</td>\n",
              "      <td>0.0</td>\n",
              "      <td>1.0</td>\n",
              "      <td>...</td>\n",
              "      <td>1</td>\n",
              "      <td>0</td>\n",
              "      <td>0</td>\n",
              "      <td>0</td>\n",
              "      <td>0</td>\n",
              "      <td>0</td>\n",
              "      <td>0</td>\n",
              "      <td>0</td>\n",
              "      <td>0</td>\n",
              "      <td>0</td>\n",
              "    </tr>\n",
              "    <tr>\n",
              "      <th>...</th>\n",
              "      <td>...</td>\n",
              "      <td>...</td>\n",
              "      <td>...</td>\n",
              "      <td>...</td>\n",
              "      <td>...</td>\n",
              "      <td>...</td>\n",
              "      <td>...</td>\n",
              "      <td>...</td>\n",
              "      <td>...</td>\n",
              "      <td>...</td>\n",
              "      <td>...</td>\n",
              "      <td>...</td>\n",
              "      <td>...</td>\n",
              "      <td>...</td>\n",
              "      <td>...</td>\n",
              "      <td>...</td>\n",
              "      <td>...</td>\n",
              "      <td>...</td>\n",
              "      <td>...</td>\n",
              "      <td>...</td>\n",
              "      <td>...</td>\n",
              "    </tr>\n",
              "    <tr>\n",
              "      <th>25578</th>\n",
              "      <td>29392</td>\n",
              "      <td>0</td>\n",
              "      <td>597</td>\n",
              "      <td>0.0</td>\n",
              "      <td>21.0</td>\n",
              "      <td>1.830986</td>\n",
              "      <td>1.0</td>\n",
              "      <td>2.762862</td>\n",
              "      <td>0.0</td>\n",
              "      <td>21.0</td>\n",
              "      <td>...</td>\n",
              "      <td>0</td>\n",
              "      <td>0</td>\n",
              "      <td>1</td>\n",
              "      <td>0</td>\n",
              "      <td>0</td>\n",
              "      <td>0</td>\n",
              "      <td>0</td>\n",
              "      <td>0</td>\n",
              "      <td>0</td>\n",
              "      <td>0</td>\n",
              "    </tr>\n",
              "    <tr>\n",
              "      <th>25579</th>\n",
              "      <td>29392</td>\n",
              "      <td>0</td>\n",
              "      <td>597</td>\n",
              "      <td>0.0</td>\n",
              "      <td>21.0</td>\n",
              "      <td>1.830986</td>\n",
              "      <td>1.0</td>\n",
              "      <td>2.762862</td>\n",
              "      <td>0.0</td>\n",
              "      <td>21.0</td>\n",
              "      <td>...</td>\n",
              "      <td>0</td>\n",
              "      <td>0</td>\n",
              "      <td>1</td>\n",
              "      <td>0</td>\n",
              "      <td>0</td>\n",
              "      <td>0</td>\n",
              "      <td>0</td>\n",
              "      <td>0</td>\n",
              "      <td>0</td>\n",
              "      <td>0</td>\n",
              "    </tr>\n",
              "    <tr>\n",
              "      <th>25580</th>\n",
              "      <td>29392</td>\n",
              "      <td>0</td>\n",
              "      <td>597</td>\n",
              "      <td>0.0</td>\n",
              "      <td>21.0</td>\n",
              "      <td>1.830986</td>\n",
              "      <td>1.0</td>\n",
              "      <td>2.762862</td>\n",
              "      <td>0.0</td>\n",
              "      <td>21.0</td>\n",
              "      <td>...</td>\n",
              "      <td>0</td>\n",
              "      <td>0</td>\n",
              "      <td>1</td>\n",
              "      <td>0</td>\n",
              "      <td>0</td>\n",
              "      <td>0</td>\n",
              "      <td>0</td>\n",
              "      <td>0</td>\n",
              "      <td>0</td>\n",
              "      <td>0</td>\n",
              "    </tr>\n",
              "    <tr>\n",
              "      <th>25581</th>\n",
              "      <td>29392</td>\n",
              "      <td>0</td>\n",
              "      <td>597</td>\n",
              "      <td>0.0</td>\n",
              "      <td>21.0</td>\n",
              "      <td>1.830986</td>\n",
              "      <td>1.0</td>\n",
              "      <td>2.762862</td>\n",
              "      <td>0.0</td>\n",
              "      <td>21.0</td>\n",
              "      <td>...</td>\n",
              "      <td>0</td>\n",
              "      <td>0</td>\n",
              "      <td>1</td>\n",
              "      <td>0</td>\n",
              "      <td>0</td>\n",
              "      <td>0</td>\n",
              "      <td>0</td>\n",
              "      <td>0</td>\n",
              "      <td>0</td>\n",
              "      <td>0</td>\n",
              "    </tr>\n",
              "    <tr>\n",
              "      <th>25582</th>\n",
              "      <td>29392</td>\n",
              "      <td>0</td>\n",
              "      <td>597</td>\n",
              "      <td>0.0</td>\n",
              "      <td>21.0</td>\n",
              "      <td>1.830986</td>\n",
              "      <td>1.0</td>\n",
              "      <td>2.762862</td>\n",
              "      <td>0.0</td>\n",
              "      <td>21.0</td>\n",
              "      <td>...</td>\n",
              "      <td>0</td>\n",
              "      <td>0</td>\n",
              "      <td>1</td>\n",
              "      <td>0</td>\n",
              "      <td>0</td>\n",
              "      <td>0</td>\n",
              "      <td>0</td>\n",
              "      <td>0</td>\n",
              "      <td>0</td>\n",
              "      <td>0</td>\n",
              "    </tr>\n",
              "  </tbody>\n",
              "</table>\n",
              "<p>300 rows × 134 columns</p>\n",
              "</div>\n",
              "      <button class=\"colab-df-convert\" onclick=\"convertToInteractive('df-2ee7c3f1-5306-4a15-9c68-c589e71b5905')\"\n",
              "              title=\"Convert this dataframe to an interactive table.\"\n",
              "              style=\"display:none;\">\n",
              "        \n",
              "  <svg xmlns=\"http://www.w3.org/2000/svg\" height=\"24px\"viewBox=\"0 0 24 24\"\n",
              "       width=\"24px\">\n",
              "    <path d=\"M0 0h24v24H0V0z\" fill=\"none\"/>\n",
              "    <path d=\"M18.56 5.44l.94 2.06.94-2.06 2.06-.94-2.06-.94-.94-2.06-.94 2.06-2.06.94zm-11 1L8.5 8.5l.94-2.06 2.06-.94-2.06-.94L8.5 2.5l-.94 2.06-2.06.94zm10 10l.94 2.06.94-2.06 2.06-.94-2.06-.94-.94-2.06-.94 2.06-2.06.94z\"/><path d=\"M17.41 7.96l-1.37-1.37c-.4-.4-.92-.59-1.43-.59-.52 0-1.04.2-1.43.59L10.3 9.45l-7.72 7.72c-.78.78-.78 2.05 0 2.83L4 21.41c.39.39.9.59 1.41.59.51 0 1.02-.2 1.41-.59l7.78-7.78 2.81-2.81c.8-.78.8-2.07 0-2.86zM5.41 20L4 18.59l7.72-7.72 1.47 1.35L5.41 20z\"/>\n",
              "  </svg>\n",
              "      </button>\n",
              "      \n",
              "  <style>\n",
              "    .colab-df-container {\n",
              "      display:flex;\n",
              "      flex-wrap:wrap;\n",
              "      gap: 12px;\n",
              "    }\n",
              "\n",
              "    .colab-df-convert {\n",
              "      background-color: #E8F0FE;\n",
              "      border: none;\n",
              "      border-radius: 50%;\n",
              "      cursor: pointer;\n",
              "      display: none;\n",
              "      fill: #1967D2;\n",
              "      height: 32px;\n",
              "      padding: 0 0 0 0;\n",
              "      width: 32px;\n",
              "    }\n",
              "\n",
              "    .colab-df-convert:hover {\n",
              "      background-color: #E2EBFA;\n",
              "      box-shadow: 0px 1px 2px rgba(60, 64, 67, 0.3), 0px 1px 3px 1px rgba(60, 64, 67, 0.15);\n",
              "      fill: #174EA6;\n",
              "    }\n",
              "\n",
              "    [theme=dark] .colab-df-convert {\n",
              "      background-color: #3B4455;\n",
              "      fill: #D2E3FC;\n",
              "    }\n",
              "\n",
              "    [theme=dark] .colab-df-convert:hover {\n",
              "      background-color: #434B5C;\n",
              "      box-shadow: 0px 1px 3px 1px rgba(0, 0, 0, 0.15);\n",
              "      filter: drop-shadow(0px 1px 2px rgba(0, 0, 0, 0.3));\n",
              "      fill: #FFFFFF;\n",
              "    }\n",
              "  </style>\n",
              "\n",
              "      <script>\n",
              "        const buttonEl =\n",
              "          document.querySelector('#df-2ee7c3f1-5306-4a15-9c68-c589e71b5905 button.colab-df-convert');\n",
              "        buttonEl.style.display =\n",
              "          google.colab.kernel.accessAllowed ? 'block' : 'none';\n",
              "\n",
              "        async function convertToInteractive(key) {\n",
              "          const element = document.querySelector('#df-2ee7c3f1-5306-4a15-9c68-c589e71b5905');\n",
              "          const dataTable =\n",
              "            await google.colab.kernel.invokeFunction('convertToInteractive',\n",
              "                                                     [key], {});\n",
              "          if (!dataTable) return;\n",
              "\n",
              "          const docLinkHtml = 'Like what you see? Visit the ' +\n",
              "            '<a target=\"_blank\" href=https://colab.research.google.com/notebooks/data_table.ipynb>data table notebook</a>'\n",
              "            + ' to learn more about interactive tables.';\n",
              "          element.innerHTML = '';\n",
              "          dataTable['output_type'] = 'display_data';\n",
              "          await google.colab.output.renderOutput(dataTable, element);\n",
              "          const docLink = document.createElement('div');\n",
              "          docLink.innerHTML = docLinkHtml;\n",
              "          element.appendChild(docLink);\n",
              "        }\n",
              "      </script>\n",
              "    </div>\n",
              "  </div>\n",
              "  "
            ]
          },
          "metadata": {},
          "execution_count": 6
        }
      ]
    },
    {
      "cell_type": "markdown",
      "source": [
        "## Dummy variables & Normalization"
      ],
      "metadata": {
        "id": "I7aEEvEI0hxE"
      }
    },
    {
      "cell_type": "code",
      "source": [
        "import pandas as pd\n",
        "import numpy as np\n",
        "import sklearn.preprocessing\n",
        "from sklearn.preprocessing import MinMaxScaler\n",
        "\n",
        "column_names = {0: \"page_likes\",\n",
        "                1: \"page_checkins\", #page visits\n",
        "                2: \"page_talking_about\",\n",
        "                3: \"page_category\",\n",
        "                4: \"min_CC1\",\n",
        "                5: \"max_CC1\",\n",
        "                6: \"ave_CC1\",\n",
        "                7: \"med_CC1\",\n",
        "                8: \"std_CC1\",\n",
        "                9: \"min_CC2\",\n",
        "                10: \"max_CC2\",\n",
        "                11: \"ave_CC2\",\n",
        "                12: \"med_CC2\",\n",
        "                13: \"std_CC2\",\n",
        "                14: \"min_CC3\",\n",
        "                15: \"max_CC3\",\n",
        "                16: \"ave_CC3\",\n",
        "                17: \"med_CC3\",\n",
        "                18: \"std_CC3\",\n",
        "                19: \"min_CC4\",\n",
        "                20: \"max_CC4\",\n",
        "                21: \"ave_CC4\",\n",
        "                22: \"med_CC4\",\n",
        "                23: \"std_CC4\",\n",
        "                24: \"min_CC5\",\n",
        "                25: \"max_CC5\",\n",
        "                26: \"ave_CC5\",\n",
        "                27: \"med_CC5\",\n",
        "                28: \"std_CC5\",\n",
        "                29: \"CC1\",\n",
        "                30: \"CC2\",\n",
        "                31: \"CC3\",\n",
        "                32: \"CC4\",\n",
        "                33: \"CC5\",\n",
        "                34: \"base_time\",\n",
        "                35: \"post_length\",\n",
        "                36: \"post_share_count\",\n",
        "                37: \"post_isPromoted\",\n",
        "                38: \"h_local\",\n",
        "                39: \"published_on_sun\",\n",
        "                40: \"published_on_mon\",\n",
        "                41: \"published_on_tue\",\n",
        "                42: \"published_on_wed\",\n",
        "                43: \"published_on_thu\",\n",
        "                44: \"published_on_fri\",\n",
        "                45: \"published_on_sat\",\n",
        "                46: \"base_day_sun\",\n",
        "                47: \"base_day_mon\",\n",
        "                48: \"base_day_tue\",\n",
        "                49: \"base_day_wed\",\n",
        "                50: \"base_day_thu\",\n",
        "                51: \"base_day_fri\",\n",
        "                52: \"base_day_sat\",\n",
        "                53: \"num_comments_in_next_h\"}\n",
        "\n",
        "\n",
        "def norm(df):\n",
        "  df_X = df.drop(columns='num_comments_in_next_h')\n",
        "  df_y = df[['num_comments_in_next_h']]\n",
        "  # print(df_y)\n",
        "  scaler = MinMaxScaler()\n",
        "  scaler.fit(df_X)\n",
        "  df_X_norm = scaler.transform(df_X)\n",
        "  df_X_norm = pd.DataFrame(df_X_norm, columns = df_X.columns)\n",
        "  df_norm = pd.concat([df_X_norm, df_y], axis=1)\n",
        "  # print(df_norm[['num_comments_in_next_h']])\n",
        "  return df_norm\n",
        "\n",
        "df1 = pd.read_csv(\"/content/unzipped_data/Dataset/Training/Features_Variant_1.csv\", header = None)\n",
        "\n",
        "# Rename columns \n",
        "df1 = df1.rename(columns = column_names)\n",
        "\n",
        "# Convert catogory to dummy variables\n",
        "dummy_df1 = pd.get_dummies(df1, columns=['page_category'])\n",
        "\n",
        "# Split train & test data\n",
        "df1_train = dummy_df1.sample(frac = 0.8, random_state=3244)\n",
        "df1_test = dummy_df1.drop(df1_train.index)\n",
        "\n",
        "df1_test_reindex = df1_test.reset_index(drop=True)\n",
        "df1_train_reindex = df1_train.reset_index(drop=True)\n",
        "\n",
        "# Normalize train and test data separately\n",
        "df1_train_norm = norm(df1_train_reindex)\n",
        "df1_test_norm = norm(df1_test_reindex)\n",
        "\n",
        "y_train = pd.DataFrame(df1_train_norm.loc[:,[\"num_comments_in_next_h\"]], dtype=float)\n",
        "X_train = pd.DataFrame(df1_train_norm.loc[:, df1_train_norm.columns != \"num_comments_in_next_h\"], dtype=float)\n",
        "\n",
        "y_test = pd.DataFrame(df1_test_norm.loc[:,[\"num_comments_in_next_h\"]], dtype=float)\n",
        "X_test = pd.DataFrame(df1_test_norm.loc[:, df1_test_norm.columns != \"num_comments_in_next_h\"], dtype=float)"
      ],
      "metadata": {
        "id": "UJutVzoR_FPU"
      },
      "execution_count": null,
      "outputs": []
    },
    {
      "cell_type": "markdown",
      "source": [
        "## Imports"
      ],
      "metadata": {
        "id": "6zgOmXwtfQkQ"
      }
    },
    {
      "cell_type": "code",
      "source": [
        "from sklearn import metrics\n",
        "from sklearn.linear_model import LinearRegression"
      ],
      "metadata": {
        "id": "g_S4K8flfPhs"
      },
      "execution_count": null,
      "outputs": []
    },
    {
      "cell_type": "markdown",
      "source": [
        "## 1 - [Base Model] Linear Regression with One-Hot Encoding for `page_category`"
      ],
      "metadata": {
        "id": "yXFOCIVBcA1y"
      }
    },
    {
      "cell_type": "markdown",
      "source": [
        "references:\n",
        "\n",
        "https://www.simplilearn.com/tutorials/scikit-learn-tutorial/sklearn-linear-regression-with-examples"
      ],
      "metadata": {
        "id": "OYAKhEXuB5Xx"
      }
    },
    {
      "cell_type": "code",
      "source": [
        "X_train_1 = pd.DataFrame(X_train)\n",
        "X_test_1 = pd.DataFrame(X_test)"
      ],
      "metadata": {
        "id": "A9RabugocJ_h"
      },
      "execution_count": null,
      "outputs": []
    },
    {
      "cell_type": "code",
      "source": [
        "est = LinearRegression()\n",
        "est = est.fit(X_train_1, y_train)\n",
        "r2_score = est.score(X_train_1, y_train)\n",
        "\n",
        "y_pred = est.predict(X_test_1)\n",
        "print('Mean Squared Error:', metrics.mean_squared_error(y_test, y_pred))\n",
        "print('Coefficient of determination:', r2_score)\n",
        "\n",
        "results1 = [1, \"Base\", metrics.mean_squared_error(y_test, y_pred),  round(r2_score, 3)]"
      ],
      "metadata": {
        "colab": {
          "base_uri": "https://localhost:8080/"
        },
        "id": "yZtNd3cZcw2s",
        "outputId": "ba1b7a6d-dd1b-4368-9e08-adc65ba1b84a"
      },
      "execution_count": null,
      "outputs": [
        {
          "output_type": "stream",
          "name": "stdout",
          "text": [
            "Mean Squared Error: 1.3884667298330657e+24\n",
            "Coefficient of determination: 0.33843478557502715\n"
          ]
        }
      ]
    },
    {
      "cell_type": "markdown",
      "source": [
        "## 2 - Linear Regression with One-Hot Encoding for `page_category` and without Highly Correlated Features"
      ],
      "metadata": {
        "id": "3MIgrAbYIRoY"
      }
    },
    {
      "cell_type": "code",
      "source": [
        "X_train_2 = X_train\n",
        "X_test_2 = X_test\n",
        "\n",
        "# Highly Correlated (corr > 0.9) features: \"ave_CC1\", \"std_CC1\", \"max_CC2\", \"min_CC4\", \"max_CC4\", \"CC4\"\n",
        "drop_corr_features = [\"min_CC1\", \"max_CC1\", \"med_CC1\", \"ave_CC2\", \"std_CC2\", \n",
        "                      \"ave_CC3\", \"std_CC3\", \"ave_CC4\", \"med_CC4\", \"std_CC4\", \n",
        "                      \"max_CC5\", \"std_CC5\", \"CC1\"]\n",
        "\n",
        "X_train_2 = X_train_2.drop(drop_corr_features, axis=1)\n",
        "X_test_2 = X_test_2.drop(drop_corr_features, axis=1)\n",
        "\n",
        "print(\"original size: \" + str(X_train.shape))\n",
        "print(\"original size: \" + str(X_train_2.shape))\n",
        "\n",
        "#print(X_train_2.shape)\n",
        "#print(y_train_2.shape)\n",
        "#print(X_test_2.shape)\n",
        "#print(y_test_2.shape)"
      ],
      "metadata": {
        "colab": {
          "base_uri": "https://localhost:8080/"
        },
        "id": "soIL9Dr0IQgH",
        "outputId": "cc4da330-1e6c-4cc6-f295-3df06e4c57dc"
      },
      "execution_count": null,
      "outputs": [
        {
          "output_type": "stream",
          "name": "stdout",
          "text": [
            "original size: (32759, 133)\n",
            "original size: (32759, 120)\n"
          ]
        }
      ]
    },
    {
      "cell_type": "code",
      "source": [
        "est = LinearRegression()\n",
        "est = est.fit(X_train_2, y_train)\n",
        "r2_score = est.score(X_train_2, y_train)\n",
        "\n",
        "y_pred = est.predict(X_test_2)\n",
        "print('Mean Squared Error:', metrics.mean_squared_error(y_test, y_pred))\n",
        "print('Coefficient of determination:', r2_score)\n",
        "\n",
        "results2 = [2, \"Without Highly Correlated Features\", metrics.mean_squared_error(y_test, y_pred), round(r2_score, 3)]"
      ],
      "metadata": {
        "colab": {
          "base_uri": "https://localhost:8080/"
        },
        "id": "zOKKP5xsXkd5",
        "outputId": "205e0b01-e5f3-4aa9-cf31-2cac81d94b49"
      },
      "execution_count": null,
      "outputs": [
        {
          "output_type": "stream",
          "name": "stdout",
          "text": [
            "Mean Squared Error: 4.2188686940637364e+19\n",
            "Coefficient of determination: 0.33386768692146096\n"
          ]
        }
      ]
    },
    {
      "cell_type": "markdown",
      "source": [
        "## 3 - Linear Regression without any Categorical Variables"
      ],
      "metadata": {
        "id": "YU5OsweHg1v_"
      }
    },
    {
      "cell_type": "code",
      "source": [
        "X_train_3 = X_train_2\n",
        "X_test_3 = X_test_2\n",
        "\n",
        "# Drop categorical variable: post_isPromoted\n",
        "X_train_3 = X_train_3.drop(\"post_isPromoted\", axis=1)\n",
        "X_test_3 = X_test_3.drop(\"post_isPromoted\", axis=1)\n",
        "\n",
        "# Don't select categorical variables: published day, base day, page category dummy variables\n",
        "X_train_3 = X_train_3.iloc[:, :24]\n",
        "X_test_3 = X_test_3.iloc[:, :24]"
      ],
      "metadata": {
        "id": "O03o-tbmhiwu"
      },
      "execution_count": null,
      "outputs": []
    },
    {
      "cell_type": "code",
      "source": [
        "print(X_train_3.shape)"
      ],
      "metadata": {
        "colab": {
          "base_uri": "https://localhost:8080/"
        },
        "id": "o6RkFe5j3_PU",
        "outputId": "8c03893b-a54d-4d87-8184-fb0fe468d3bd"
      },
      "execution_count": null,
      "outputs": [
        {
          "output_type": "stream",
          "name": "stdout",
          "text": [
            "(32759, 24)\n"
          ]
        }
      ]
    },
    {
      "cell_type": "code",
      "source": [
        "est = LinearRegression()\n",
        "est = est.fit(X_train_3, y_train)\n",
        "r2_score = est.score(X_train_3, y_train)\n",
        "\n",
        "y_pred = est.predict(X_test_3)\n",
        "print('Mean Squared Error:', metrics.mean_squared_error(y_test, y_pred))\n",
        "print('Coefficient of determination:', r2_score)\n",
        "\n",
        "results3 = [3, \"Without Categorical\", metrics.mean_squared_error(y_test, y_pred), round(r2_score, 3)]"
      ],
      "metadata": {
        "colab": {
          "base_uri": "https://localhost:8080/"
        },
        "id": "Tx-D4F1aqkgB",
        "outputId": "b48e1783-9356-48fb-95da-789792c289b9"
      },
      "execution_count": null,
      "outputs": [
        {
          "output_type": "stream",
          "name": "stdout",
          "text": [
            "Mean Squared Error: 877.3015589277178\n",
            "Coefficient of determination: 0.33185823835117745\n"
          ]
        }
      ]
    },
    {
      "cell_type": "markdown",
      "source": [
        "## 4 - Linear Regression with SelectKBest"
      ],
      "metadata": {
        "id": "7UoZBafh-vMs"
      }
    },
    {
      "cell_type": "markdown",
      "source": [
        "references: \n",
        "\n",
        "https://www.datatechnotes.com/2021/02/seleckbest-feature-selection-example-in-python.html"
      ],
      "metadata": {
        "id": "Wa2hWDuCDs92"
      }
    },
    {
      "cell_type": "code",
      "source": [
        "from sklearn.feature_selection import SelectKBest\n",
        "from sklearn.feature_selection import f_regression\n",
        "from numpy import array\n",
        "\n",
        "X_train_4 = X_train\n",
        "X_test_4 = X_test\n",
        "\n",
        "print(\"Feature data dimension: \", X_train_4.shape)"
      ],
      "metadata": {
        "id": "QEK-B1wugyJX",
        "colab": {
          "base_uri": "https://localhost:8080/"
        },
        "outputId": "8e7b253b-67e9-418d-dfbf-0efe76b66942"
      },
      "execution_count": null,
      "outputs": [
        {
          "output_type": "stream",
          "name": "stdout",
          "text": [
            "Feature data dimension:  (32759, 133)\n"
          ]
        }
      ]
    },
    {
      "cell_type": "markdown",
      "source": [
        "### SelectKBest for K = 10"
      ],
      "metadata": {
        "id": "-Lz73glRFica"
      }
    },
    {
      "cell_type": "code",
      "source": [
        "select = SelectKBest(score_func = f_regression, k = 10)\n",
        "z = select.fit_transform(X_train_4, y_train) \n",
        " \n",
        "print(\"After selecting best 10 features:\", z.shape) \n",
        "\n",
        "filter = select.get_support()\n",
        "features = array(X_train_4.columns)\n",
        "\n",
        "print(\"Selected best 10:\")\n",
        "print(features[filter])\n",
        "#print(z)\n",
        "\n",
        "X_train_4_k10 = X_train_4.loc[:, filter]\n",
        "est = LinearRegression()\n",
        "est = est.fit(X_train_4_k10, y_train)\n",
        "r2_score = est.score(X_train_4_k10, y_train)\n",
        "\n",
        "print(\"R-squared score for selectkbest at K=10 is: \" + str(round(r2_score, 3)))"
      ],
      "metadata": {
        "id": "wBsB5mux_8jH",
        "outputId": "2d45b5fd-8045-4819-b528-1707ce0a0762",
        "colab": {
          "base_uri": "https://localhost:8080/"
        }
      },
      "execution_count": null,
      "outputs": [
        {
          "output_type": "stream",
          "name": "stdout",
          "text": [
            "After selecting best 10 features: (32759, 10)\n",
            "Selected best 10:\n",
            "['ave_CC1' 'med_CC1' 'ave_CC2' 'ave_CC3' 'ave_CC4' 'med_CC4' 'CC1' 'CC2'\n",
            " 'CC4' 'CC5']\n",
            "R-squared score for selectkbest at K=10 is: 0.315\n"
          ]
        },
        {
          "output_type": "stream",
          "name": "stderr",
          "text": [
            "/usr/local/lib/python3.7/dist-packages/sklearn/utils/validation.py:993: DataConversionWarning: A column-vector y was passed when a 1d array was expected. Please change the shape of y to (n_samples, ), for example using ravel().\n",
            "  y = column_or_1d(y, warn=True)\n",
            "/usr/local/lib/python3.7/dist-packages/sklearn/feature_selection/_univariate_selection.py:289: RuntimeWarning: invalid value encountered in true_divide\n",
            "  correlation_coefficient /= X_norms\n"
          ]
        }
      ]
    },
    {
      "cell_type": "markdown",
      "source": [
        "### SelectKBest for K = 125"
      ],
      "metadata": {
        "id": "o0EUan3KFqjX"
      }
    },
    {
      "cell_type": "code",
      "source": [
        "select = SelectKBest(score_func = f_regression, k = 125)\n",
        "z = select.fit_transform(X_train_4, y_train) \n",
        "\n",
        "filter_features = select.get_support()\n",
        "features = array(X_train_4.columns)\n",
        " \n",
        "print(\"Selected best 125:\")\n",
        "print(features[filter_features])\n",
        "\n",
        "X_train_4_k125 = X_train_4.loc[:, filter_features]\n",
        "est = est.fit(X_train_4_k125, y_train)\n",
        "r2_score = est.score(X_train_4_k125, y_train)\n",
        "\n",
        "X_test_4_k125 = X_test_4.loc[:, filter_features]\n",
        "y_pred = est.predict(X_test_4_k125)\n",
        "print('Mean Squared Error:', metrics.mean_squared_error(y_test, y_pred))\n",
        "print('Coefficient of determination:', r2_score)\n",
        "\n",
        "results4 = [4, \"SelectKBest (K=125)\", metrics.mean_squared_error(y_test, y_pred), round(r2_score, 3)]"
      ],
      "metadata": {
        "colab": {
          "base_uri": "https://localhost:8080/"
        },
        "id": "gYY8bJjmApBm",
        "outputId": "fe882d1d-d54a-49fd-be8e-604b46ffd23e"
      },
      "execution_count": null,
      "outputs": [
        {
          "output_type": "stream",
          "name": "stdout",
          "text": [
            "Selected best 125:\n",
            "['page_likes' 'page_checkins' 'page_talking_about' 'min_CC1' 'max_CC1'\n",
            " 'ave_CC1' 'med_CC1' 'std_CC1' 'min_CC2' 'max_CC2' 'ave_CC2' 'med_CC2'\n",
            " 'std_CC2' 'min_CC3' 'max_CC3' 'ave_CC3' 'med_CC3' 'std_CC3' 'min_CC4'\n",
            " 'max_CC4' 'ave_CC4' 'med_CC4' 'std_CC4' 'min_CC5' 'max_CC5' 'ave_CC5'\n",
            " 'med_CC5' 'std_CC5' 'CC1' 'CC2' 'CC3' 'CC4' 'CC5' 'base_time'\n",
            " 'post_length' 'post_share_count' 'h_local' 'published_on_sun'\n",
            " 'published_on_mon' 'published_on_tue' 'published_on_wed'\n",
            " 'published_on_thu' 'published_on_sat' 'base_day_sun' 'base_day_mon'\n",
            " 'base_day_wed' 'base_day_thu' 'base_day_fri' 'base_day_sat'\n",
            " 'page_category_1' 'page_category_3' 'page_category_4' 'page_category_5'\n",
            " 'page_category_6' 'page_category_8' 'page_category_9' 'page_category_10'\n",
            " 'page_category_11' 'page_category_12' 'page_category_13'\n",
            " 'page_category_14' 'page_category_15' 'page_category_16'\n",
            " 'page_category_17' 'page_category_18' 'page_category_19'\n",
            " 'page_category_20' 'page_category_21' 'page_category_22'\n",
            " 'page_category_23' 'page_category_24' 'page_category_25'\n",
            " 'page_category_26' 'page_category_27' 'page_category_28'\n",
            " 'page_category_29' 'page_category_30' 'page_category_31'\n",
            " 'page_category_32' 'page_category_33' 'page_category_34'\n",
            " 'page_category_35' 'page_category_38' 'page_category_39'\n",
            " 'page_category_40' 'page_category_42' 'page_category_44'\n",
            " 'page_category_45' 'page_category_46' 'page_category_47'\n",
            " 'page_category_49' 'page_category_50' 'page_category_51'\n",
            " 'page_category_54' 'page_category_55' 'page_category_56'\n",
            " 'page_category_58' 'page_category_59' 'page_category_60'\n",
            " 'page_category_61' 'page_category_62' 'page_category_63'\n",
            " 'page_category_66' 'page_category_67' 'page_category_68'\n",
            " 'page_category_72' 'page_category_73' 'page_category_75'\n",
            " 'page_category_76' 'page_category_77' 'page_category_79'\n",
            " 'page_category_80' 'page_category_81' 'page_category_82'\n",
            " 'page_category_85' 'page_category_87' 'page_category_89'\n",
            " 'page_category_90' 'page_category_91' 'page_category_92'\n",
            " 'page_category_96' 'page_category_100' 'page_category_101'\n",
            " 'page_category_105' 'page_category_106']\n"
          ]
        },
        {
          "output_type": "stream",
          "name": "stderr",
          "text": [
            "/usr/local/lib/python3.7/dist-packages/sklearn/utils/validation.py:993: DataConversionWarning: A column-vector y was passed when a 1d array was expected. Please change the shape of y to (n_samples, ), for example using ravel().\n",
            "  y = column_or_1d(y, warn=True)\n",
            "/usr/local/lib/python3.7/dist-packages/sklearn/feature_selection/_univariate_selection.py:289: RuntimeWarning: invalid value encountered in true_divide\n",
            "  correlation_coefficient /= X_norms\n"
          ]
        },
        {
          "output_type": "stream",
          "name": "stdout",
          "text": [
            "Mean Squared Error: 1.1032392512690672e+24\n",
            "Coefficient of determination: 0.3386606520762454\n"
          ]
        }
      ]
    },
    {
      "cell_type": "markdown",
      "source": [
        "## 5 - linear regression with PCA\n"
      ],
      "metadata": {
        "id": "Dk2jplyau1GN"
      }
    },
    {
      "cell_type": "markdown",
      "source": [
        "references: \n",
        "\n",
        "https://towardsdatascience.com/using-principal-component-analysis-pca-for-machine-learning-b6e803f5bf1e\n",
        "\n",
        "https://towardsdatascience.com/pca-using-python-scikit-learn-e653f8989e60\n",
        "\n",
        "https://towardsdatascience.com/principal-component-regression-clearly-explained-and-implemented-608471530a2f"
      ],
      "metadata": {
        "id": "bekuEwv5netv"
      }
    },
    {
      "cell_type": "code",
      "source": [
        "from sklearn.decomposition import PCA\n",
        "\n",
        "pca_original = PCA()\n",
        "X_train_pca = pca_original.fit_transform(X_train)\n",
        "\n",
        "num_components = len(pca_original.explained_variance_ratio_)\n",
        "\n",
        "print('Explained variation per principal component: {}'.format(pca_original.explained_variance_ratio_))\n",
        "print('Sum of explained variation by', num_components, \"components:\", pca_original.explained_variance_ratio_.sum())\n",
        "\n",
        "\n",
        "plt.plot(range(1,num_components + 1), np.cumsum(pca_original.explained_variance_ratio_ * 100))\n",
        "plt.title(\"Explained Variance (%) Against Number of Components\")\n",
        "plt.xlabel(\"Number of components\")\n",
        "plt.ylabel(\"Explained variance (%)\")\n",
        "plt.show()"
      ],
      "metadata": {
        "colab": {
          "base_uri": "https://localhost:8080/",
          "height": 903
        },
        "id": "aMAPz-F_FRFW",
        "outputId": "9ae54283-3c5c-41b5-9c3c-c9daeb570257"
      },
      "execution_count": null,
      "outputs": [
        {
          "output_type": "stream",
          "name": "stdout",
          "text": [
            "Explained variation per principal component: [1.02852652e-01 8.05141264e-02 7.72058914e-02 5.37042752e-02\n",
            " 5.24774861e-02 5.05992670e-02 4.93593700e-02 4.39570998e-02\n",
            " 4.29597460e-02 4.09096244e-02 4.04669388e-02 3.73597613e-02\n",
            " 3.52714970e-02 2.76008809e-02 2.50980325e-02 1.79963460e-02\n",
            " 1.55362352e-02 1.48245010e-02 1.44224460e-02 1.26853820e-02\n",
            " 1.11118435e-02 1.01805736e-02 8.56533082e-03 7.69917949e-03\n",
            " 6.38421229e-03 4.99594121e-03 4.70439259e-03 4.64989561e-03\n",
            " 4.16307334e-03 4.00289691e-03 3.96680800e-03 3.86651473e-03\n",
            " 3.82735865e-03 3.70545077e-03 3.63798709e-03 3.57815934e-03\n",
            " 3.49911017e-03 3.30565090e-03 3.23651845e-03 2.89609594e-03\n",
            " 2.70769237e-03 2.61314272e-03 2.51163383e-03 2.33542715e-03\n",
            " 2.18853104e-03 2.12078587e-03 2.09619870e-03 2.08282861e-03\n",
            " 1.97958351e-03 1.90995796e-03 1.88188548e-03 1.80583394e-03\n",
            " 1.71265391e-03 1.62533385e-03 1.56844829e-03 1.53707109e-03\n",
            " 1.52349748e-03 1.47805656e-03 1.39863419e-03 1.36974425e-03\n",
            " 1.29861666e-03 1.24947564e-03 1.10296643e-03 1.05516122e-03\n",
            " 9.95841210e-04 9.54680162e-04 9.38504153e-04 9.13489666e-04\n",
            " 8.99460197e-04 8.77436324e-04 8.63712476e-04 7.78596057e-04\n",
            " 7.24745780e-04 6.92645486e-04 6.56259196e-04 6.37365852e-04\n",
            " 6.31533349e-04 6.03884339e-04 5.74519534e-04 4.97112745e-04\n",
            " 4.80009757e-04 4.73284001e-04 4.63166331e-04 4.34843527e-04\n",
            " 4.29583958e-04 4.22631456e-04 3.86543578e-04 3.79993184e-04\n",
            " 3.34013738e-04 2.93105166e-04 2.48235893e-04 2.23864506e-04\n",
            " 2.12738430e-04 2.03446537e-04 2.00099720e-04 1.88231516e-04\n",
            " 1.81703107e-04 1.43270214e-04 1.40079859e-04 1.37729673e-04\n",
            " 1.28875188e-04 1.11384843e-04 1.00847508e-04 9.20958480e-05\n",
            " 8.75264694e-05 5.70293274e-05 4.92309379e-05 3.12507660e-05\n",
            " 3.04011492e-05 2.66836196e-05 2.32714790e-05 2.02575691e-05\n",
            " 1.63813902e-05 1.51517474e-05 1.05473503e-05 1.02493361e-05\n",
            " 1.00051012e-05 9.24919624e-06 6.59590778e-06 5.61635141e-06\n",
            " 3.22881050e-06 2.51015977e-06 1.59592944e-06 1.56248984e-06\n",
            " 2.74082999e-07 7.55990178e-08 2.80301885e-08 2.02841090e-32\n",
            " 8.94690609e-34 8.94690609e-34 8.94690609e-34 8.94690609e-34\n",
            " 8.94690609e-34]\n",
            "Sum of explained variation by 133 components: 1.0000000000000002\n"
          ]
        },
        {
          "output_type": "display_data",
          "data": {
            "text/plain": [
              "<Figure size 432x288 with 1 Axes>"
            ],
            "image/png": "[encoded data removed]"
          },
          "metadata": {
            "needs_background": "light"
          }
        }
      ]
    },
    {
      "cell_type": "code",
      "source": [
        "pca = PCA(n_components = 0.90) # set the desired explained variance to 90%\n",
        "X_train_pca = pca.fit_transform(X_train)\n",
        "\n",
        "num_components = len(pca.explained_variance_ratio_)\n",
        "\n",
        "print('Explained variation per principal component: {}'.format(pca.explained_variance_ratio_))\n",
        "print('Sum of explained variation by', num_components, \"components:\", pca.explained_variance_ratio_.sum())\n",
        "\n"
      ],
      "metadata": {
        "colab": {
          "base_uri": "https://localhost:8080/"
        },
        "id": "WVt6YFqp5cRZ",
        "outputId": "b1838175-26cb-4c60-ac05-fec69753b51d"
      },
      "execution_count": null,
      "outputs": [
        {
          "output_type": "stream",
          "name": "stdout",
          "text": [
            "Explained variation per principal component: [0.10285265 0.08051413 0.07720589 0.05370428 0.05247749 0.05059927\n",
            " 0.04935937 0.0439571  0.04295975 0.04090962 0.04046694 0.03735976\n",
            " 0.0352715  0.02760088 0.02509803 0.01799635 0.01553624 0.0148245\n",
            " 0.01442245 0.01268538 0.01111184 0.01018057 0.00856533 0.00769918\n",
            " 0.00638421 0.00499594 0.00470439 0.0046499  0.00416307 0.0040029 ]\n",
            "Sum of explained variation by 30 components: 0.9022588983354262\n"
          ]
        }
      ]
    },
    {
      "cell_type": "code",
      "source": [
        "plt.plot(range(1,num_components + 1), np.cumsum(pca.explained_variance_ratio_ * 100))\n",
        "plt.title(\"Explained Variance (%) Against Number of Components\")\n",
        "plt.xlabel(\"Number of components\")\n",
        "plt.ylabel(\"Explained variance (%)\")\n",
        "plt.show()"
      ],
      "metadata": {
        "id": "0HDeTZk15uIY",
        "colab": {
          "base_uri": "https://localhost:8080/",
          "height": 295
        },
        "outputId": "763e9a6c-0e33-443a-8d09-eb666e2e9142"
      },
      "execution_count": null,
      "outputs": [
        {
          "output_type": "display_data",
          "data": {
            "text/plain": [
              "<Figure size 432x288 with 1 Axes>"
            ],
            "image/png": "[encoded data removed]"
          },
          "metadata": {
            "needs_background": "light"
          }
        }
      ]
    },
    {
      "cell_type": "code",
      "source": [
        "pca_components = abs(pca.components_)\n",
        "\n",
        "print('Top 5 most important features in each component')\n",
        "print('===============================================')\n",
        "for row in range(pca_components.shape[0]):\n",
        "    # get the indices of the top 4 values in each row\n",
        "    temp = np.argpartition(-(pca_components[row]), 5)\n",
        "    \n",
        "    # sort the indices in descending order\n",
        "    indices = temp[np.argsort((-pca_components[row])[temp])][:5]\n",
        "    \n",
        "    # print the top 4 feature names\n",
        "    print(f'Component {row+1}: {X_train.columns[indices].to_list()}')\n"
      ],
      "metadata": {
        "id": "8Bozsza5mZti",
        "colab": {
          "base_uri": "https://localhost:8080/"
        },
        "outputId": "8ea0a5f8-fac9-4374-b41e-2e98ded5315c"
      },
      "execution_count": null,
      "outputs": [
        {
          "output_type": "stream",
          "name": "stdout",
          "text": [
            "Top 5 most important features in each component\n",
            "===============================================\n",
            "Component 1: ['page_category_9', 'max_CC4', 'max_CC1', 'max_CC3', 'max_CC2']\n",
            "Component 2: ['base_day_sun', 'published_on_tue', 'published_on_fri', 'base_day_thu', 'base_day_wed']\n",
            "Component 3: ['published_on_wed', 'base_day_fri', 'base_day_tue', 'published_on_thu', 'published_on_mon']\n",
            "Component 4: ['published_on_wed', 'base_day_wed', 'published_on_tue', 'base_day_thu', 'base_day_mon']\n",
            "Component 5: ['published_on_thu', 'base_day_tue', 'published_on_tue', 'published_on_mon', 'base_day_sun']\n",
            "Component 6: ['base_day_sat', 'base_day_fri', 'published_on_fri', 'published_on_mon', 'published_on_thu']\n",
            "Component 7: ['base_day_thu', 'base_day_fri', 'published_on_sun', 'base_day_mon', 'base_day_wed']\n",
            "Component 8: ['base_day_sun', 'base_day_sat', 'base_day_mon', 'published_on_mon', 'published_on_tue']\n",
            "Component 9: ['base_day_wed', 'published_on_fri', 'published_on_sat', 'base_day_tue', 'base_day_thu']\n",
            "Component 10: ['base_day_mon', 'base_day_tue', 'published_on_thu', 'published_on_mon', 'base_day_sat']\n",
            "Component 11: ['published_on_sun', 'base_day_fri', 'published_on_sat', 'published_on_mon', 'base_day_sun']\n",
            "Component 12: ['page_category_9', 'page_category_18', 'page_category_24', 'max_CC1', 'max_CC4']\n",
            "Component 13: ['page_category_24', 'page_category_18', 'page_category_9', 'max_CC3', 'min_CC5']\n",
            "Component 14: ['base_time', 'page_category_18', 'published_on_thu', 'published_on_wed', 'base_day_mon']\n",
            "Component 15: ['page_category_18', 'page_category_9', 'page_category_36', 'page_category_24', 'page_category_14']\n",
            "Component 16: ['page_category_36', 'page_category_16', 'page_category_14', 'page_category_18', 'page_category_9']\n",
            "Component 17: ['published_on_sun', 'base_day_tue', 'published_on_thu', 'base_day_fri', 'base_day_mon']\n",
            "Component 18: ['base_day_sun', 'published_on_tue', 'published_on_sat', 'base_day_thu', 'published_on_fri']\n",
            "Component 19: ['page_category_16', 'page_category_14', 'page_category_8', 'published_on_fri', 'base_day_sat']\n",
            "Component 20: ['page_category_14', 'page_category_8', 'page_category_32', 'page_category_16', 'page_category_36']\n",
            "Component 21: ['page_category_32', 'page_category_8', 'page_category_4', 'page_category_9', 'max_CC4']\n",
            "Component 22: ['page_category_4', 'page_category_32', 'page_category_8', 'page_category_2', 'page_category_14']\n",
            "Component 23: ['page_category_2', 'page_category_4', 'page_category_8', 'page_category_14', 'page_category_9']\n",
            "Component 24: ['page_category_1', 'page_category_2', 'page_category_4', 'page_category_8', 'max_CC2']\n",
            "Component 25: ['page_category_1', 'page_category_2', 'page_category_4', 'page_category_40', 'page_category_8']\n",
            "Component 26: ['max_CC2', 'max_CC5', 'max_CC3', 'page_category_39', 'min_CC5']\n",
            "Component 27: ['page_category_40', 'page_checkins', 'page_category_39', 'max_CC2', 'page_category_13']\n",
            "Component 28: ['std_CC2', 'max_CC3', 'page_category_38', 'max_CC1', 'std_CC5']\n",
            "Component 29: ['page_category_39', 'page_category_13', 'page_category_26', 'max_CC5', 'max_CC2']\n",
            "Component 30: ['page_category_13', 'page_category_17', 'page_category_39', 'page_category_38', 'page_category_42']\n"
          ]
        }
      ]
    },
    {
      "cell_type": "code",
      "source": [
        "X_train_principal_components = pca.transform(X_train)\n",
        "X_test_principal_components = pca.transform(X_test)\n",
        "\n",
        "est = LinearRegression()\n",
        "est = est.fit(X_train_principal_components, y_train)\n",
        "r2_score = est.score(X_train_principal_components, y_train)\n",
        "\n",
        "y_pred = est.predict(X_test_principal_components)\n",
        "print('Mean Squared Error:', metrics.mean_squared_error(y_test, y_pred))\n",
        "print('Coefficient of determination:', r2_score)\n",
        "\n",
        "results5 = [5, \"PCA\", metrics.mean_squared_error(y_test, y_pred), round(r2_score, 3)]"
      ],
      "metadata": {
        "id": "v5oC3GWdsE2f",
        "colab": {
          "base_uri": "https://localhost:8080/"
        },
        "outputId": "376e7249-4d68-4f20-b991-2eb1a4d9b288"
      },
      "execution_count": null,
      "outputs": [
        {
          "output_type": "stream",
          "name": "stdout",
          "text": [
            "Mean Squared Error: 993.0796610986962\n",
            "Coefficient of determination: 0.17644563010405934\n"
          ]
        }
      ]
    },
    {
      "cell_type": "markdown",
      "source": [
        "## 6 - Linear Regression with SGD"
      ],
      "metadata": {
        "id": "FEE98eX9ceg7"
      }
    },
    {
      "cell_type": "markdown",
      "source": [
        "references:\n",
        "\n",
        "https://scikit-learn.org/stable/modules/generated/sklearn.linear_model.SGDRegressor.html\n",
        "\n",
        "https://www.datatechnotes.com/2020/09/regression-example-with-sgdregressor-in-python.html"
      ],
      "metadata": {
        "id": "JprD-QcVA7-I"
      }
    },
    {
      "cell_type": "code",
      "source": [
        "from sklearn.linear_model import SGDRegressor\n",
        "from sklearn.datasets import load_boston\n",
        "from sklearn.datasets import make_regression\n",
        "from sklearn.metrics import mean_squared_error\n",
        "from sklearn.model_selection import cross_val_score\n",
        "from sklearn.preprocessing import scale\n",
        "import matplotlib.pyplot as plt"
      ],
      "metadata": {
        "id": "aDia6BON1OIo"
      },
      "execution_count": null,
      "outputs": []
    },
    {
      "cell_type": "code",
      "source": [
        "X_train_6 = X_train_2\n",
        "X_test_6 = X_test_2"
      ],
      "metadata": {
        "id": "MbCig-pDvori"
      },
      "execution_count": null,
      "outputs": []
    },
    {
      "cell_type": "code",
      "source": [
        "sgdr = SGDRegressor(alpha=0.000001, epsilon=0.01, eta0=0.1)\n",
        "sgdr.fit(X_train_6, y_train)\n",
        "r2_score_sgd = sgdr.score(X_train_6, y_train)\n",
        "\n",
        "y_pred = sgdr.predict(X_test_6)\n",
        "print('Mean Squared Error:', metrics.mean_squared_error(y_test, y_pred))\n",
        "print('Coefficient of determination:', r2_score_sgd)\n",
        "\n",
        "results6 = [6, \"SGD\", metrics.mean_squared_error(y_test, y_pred), round(r2_score_sgd, 3)]"
      ],
      "metadata": {
        "id": "-aNCZCRK7S7q",
        "outputId": "7269cf9e-9e1c-416d-edc1-fff9c37e8a40",
        "colab": {
          "base_uri": "https://localhost:8080/"
        }
      },
      "execution_count": null,
      "outputs": [
        {
          "output_type": "stream",
          "name": "stderr",
          "text": [
            "/usr/local/lib/python3.7/dist-packages/sklearn/utils/validation.py:993: DataConversionWarning: A column-vector y was passed when a 1d array was expected. Please change the shape of y to (n_samples, ), for example using ravel().\n",
            "  y = column_or_1d(y, warn=True)\n"
          ]
        },
        {
          "output_type": "stream",
          "name": "stdout",
          "text": [
            "Mean Squared Error: 861.3909520132681\n",
            "Coefficient of determination: 0.3211577757080555\n"
          ]
        }
      ]
    },
    {
      "cell_type": "code",
      "source": [
        "x_ax = range(len(y_test))\n",
        "plt.plot(x_ax, y_test, label=\"original\")\n",
        "plt.plot(x_ax, y_pred, label=\"predicted\")\n",
        "plt.title(\"Facebook Comment Volume test and predicted data\")\n",
        "plt.xlabel('Index of Test Data')\n",
        "plt.ylabel('Facebook Comment Volume')\n",
        "plt.legend(loc='best',fancybox=True, shadow=True)\n",
        "plt.grid(True)\n",
        "plt.show()"
      ],
      "metadata": {
        "id": "wBfSbk1f9jMp",
        "outputId": "c55dde26-86e0-4e67-e0b3-581e2a499614",
        "colab": {
          "base_uri": "https://localhost:8080/",
          "height": 295
        }
      },
      "execution_count": null,
      "outputs": [
        {
          "output_type": "display_data",
          "data": {
            "text/plain": [
              "<Figure size 432x288 with 1 Axes>"
            ],
            "image/png": "[encoded data removed]"
          },
          "metadata": {
            "needs_background": "light"
          }
        }
      ]
    },
    {
      "cell_type": "markdown",
      "source": [
        "## 7 - Linear Regression with Significant Features based on p-value"
      ],
      "metadata": {
        "id": "GpfoniHmkAaX"
      }
    },
    {
      "cell_type": "code",
      "source": [
        "X_train_7 = X_train\n",
        "X_test_7 = X_test\n",
        "\n",
        "# Top 15 most significant features by p-value (α = 0.01):\n",
        "sig_features = [\"page_talking_about\", \"page_category_25\", \"std_CC1\", \"min_CC2\", \n",
        "                \"med_CC2\", \"med_CC3\", \"max_CC4\", \"CC2\", \"CC3\", \"CC4\", \n",
        "                \"base_time\", \"post_share_count\", \"h_local\", \n",
        "                \"page_category_31\", \"ave_CC5\"]\n",
        "\n",
        "# Select only these Top 15 features\n",
        "X_train_7 = X_train_7.loc[:, sig_features]\n",
        "X_test_7 = X_test_7.loc[:, sig_features]"
      ],
      "metadata": {
        "id": "0HR1z5VG1OtN"
      },
      "execution_count": null,
      "outputs": []
    },
    {
      "cell_type": "code",
      "source": [
        "est = LinearRegression()\n",
        "est = est.fit(X_train_7, y_train)\n",
        "r2_score = est.score(X_train_7, y_train)\n",
        "\n",
        "y_pred = est.predict(X_test_7)\n",
        "print('Mean Squared Error:', metrics.mean_squared_error(y_test, y_pred))\n",
        "print('Coefficient of determination:', r2_score)\n",
        "\n",
        "results7 = [7, \"p-value Significant\", metrics.mean_squared_error(y_test, y_pred), round(r2_score, 3)]"
      ],
      "metadata": {
        "id": "1IB4a2hnoeaC",
        "colab": {
          "base_uri": "https://localhost:8080/"
        },
        "outputId": "15340f11-793e-421b-a5c1-d65966737833"
      },
      "execution_count": null,
      "outputs": [
        {
          "output_type": "stream",
          "name": "stdout",
          "text": [
            "Mean Squared Error: 857.1030395927767\n",
            "Coefficient of determination: 0.3314920751357302\n"
          ]
        }
      ]
    },
    {
      "cell_type": "markdown",
      "source": [
        "## Summary"
      ],
      "metadata": {
        "id": "KD5pUueey9_M"
      }
    },
    {
      "cell_type": "code",
      "source": [
        "from tabulate import tabulate\n",
        "\n",
        "headers = [\"Num\", \"Model\", \"MSE\", \"R-squared\"]\n",
        "results_table = [headers, results1, results2, results3, results4, results5, results6, results7]\n",
        "\n",
        "print(tabulate(results_table, headers='firstrow', tablefmt='fancy_grid', numalign=\"right\"))"
      ],
      "metadata": {
        "id": "1iDzwctnu8_m",
        "colab": {
          "base_uri": "https://localhost:8080/"
        },
        "outputId": "ab942015-351f-41ab-e9cc-8f77850118f6"
      },
      "execution_count": null,
      "outputs": [
        {
          "output_type": "stream",
          "name": "stdout",
          "text": [
            "╒═══════╤════════════════════════════════════╤═════════════╤═════════════╕\n",
            "│   Num │ Model                              │         MSE │   R-squared │\n",
            "╞═══════╪════════════════════════════════════╪═════════════╪═════════════╡\n",
            "│     1 │ Base                               │ 1.38847e+24 │       0.338 │\n",
            "├───────┼────────────────────────────────────┼─────────────┼─────────────┤\n",
            "│     2 │ Without Highly Correlated Features │ 4.21887e+19 │       0.334 │\n",
            "├───────┼────────────────────────────────────┼─────────────┼─────────────┤\n",
            "│     3 │ Without Categorical                │     877.302 │       0.332 │\n",
            "├───────┼────────────────────────────────────┼─────────────┼─────────────┤\n",
            "│     4 │ SelectKBest (K=125)                │ 1.10324e+24 │       0.339 │\n",
            "├───────┼────────────────────────────────────┼─────────────┼─────────────┤\n",
            "│     5 │ PCA                                │      993.08 │       0.176 │\n",
            "├───────┼────────────────────────────────────┼─────────────┼─────────────┤\n",
            "│     6 │ SGD                                │     861.391 │       0.321 │\n",
            "├───────┼────────────────────────────────────┼─────────────┼─────────────┤\n",
            "│     7 │ p-value Significant                │     857.103 │       0.331 │\n",
            "╘═══════╧════════════════════════════════════╧═════════════╧═════════════╛\n"
          ]
        }
      ]
    }
  ]
}